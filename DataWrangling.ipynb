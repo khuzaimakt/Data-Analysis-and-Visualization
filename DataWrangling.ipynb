{
 "cells": [
  {
   "cell_type": "markdown",
   "metadata": {},
   "source": [
    "Khuzaima Tofeeq\n",
    "20L-1304\n",
    "BS DS- 5A2"
   ]
  },
  {
   "cell_type": "markdown",
   "metadata": {},
   "source": [
    "Importing Necessary Libraries"
   ]
  },
  {
   "cell_type": "code",
   "execution_count": 1,
   "metadata": {},
   "outputs": [],
   "source": [
    "#Importing Necessary Libraries used for Data Wrangling and Visualization and charts/plots.\n",
    "\n",
    "import pandas as pd\n",
    "import seaborn as sns\n",
    "import matplotlib.pyplot as plt\n",
    "import numpy as np\n",
    "from sklearn.impute import SimpleImputer\n",
    "from sklearn.impute import SimpleImputer"
   ]
  },
  {
   "cell_type": "code",
   "execution_count": 17,
   "metadata": {},
   "outputs": [],
   "source": [
    "#Reading excel file in pandas DataFrame\n",
    "df1=pd.read_excel('my_iris.xlsx')"
   ]
  },
  {
   "cell_type": "code",
   "execution_count": 18,
   "metadata": {},
   "outputs": [
    {
     "data": {
      "text/html": [
       "<div>\n",
       "<style scoped>\n",
       "    .dataframe tbody tr th:only-of-type {\n",
       "        vertical-align: middle;\n",
       "    }\n",
       "\n",
       "    .dataframe tbody tr th {\n",
       "        vertical-align: top;\n",
       "    }\n",
       "\n",
       "    .dataframe thead th {\n",
       "        text-align: right;\n",
       "    }\n",
       "</style>\n",
       "<table border=\"1\" class=\"dataframe\">\n",
       "  <thead>\n",
       "    <tr style=\"text-align: right;\">\n",
       "      <th></th>\n",
       "      <th>Unnamed: 0</th>\n",
       "      <th>sepal depth</th>\n",
       "      <th>sepal diameter</th>\n",
       "      <th>petal depth</th>\n",
       "      <th>petal diameter</th>\n",
       "      <th>sepal length</th>\n",
       "      <th>sepal width</th>\n",
       "      <th>petal length</th>\n",
       "      <th>petal width</th>\n",
       "      <th>target</th>\n",
       "    </tr>\n",
       "  </thead>\n",
       "  <tbody>\n",
       "    <tr>\n",
       "      <th>0</th>\n",
       "      <td>0</td>\n",
       "      <td>NaN</td>\n",
       "      <td>NaN</td>\n",
       "      <td>NaN</td>\n",
       "      <td>NaN</td>\n",
       "      <td>10.2</td>\n",
       "      <td>-7.0</td>\n",
       "      <td>5.6</td>\n",
       "      <td>-0.8</td>\n",
       "      <td>Iris-setosa</td>\n",
       "    </tr>\n",
       "    <tr>\n",
       "      <th>1</th>\n",
       "      <td>1</td>\n",
       "      <td>4.9</td>\n",
       "      <td>3.0</td>\n",
       "      <td>1.4</td>\n",
       "      <td>0.2</td>\n",
       "      <td>9.8</td>\n",
       "      <td>-6.0</td>\n",
       "      <td>5.6</td>\n",
       "      <td>-0.8</td>\n",
       "      <td>Iris-setosa</td>\n",
       "    </tr>\n",
       "    <tr>\n",
       "      <th>2</th>\n",
       "      <td>2</td>\n",
       "      <td>4.7</td>\n",
       "      <td>3.2</td>\n",
       "      <td>NaN</td>\n",
       "      <td>NaN</td>\n",
       "      <td>9.4</td>\n",
       "      <td>-6.4</td>\n",
       "      <td>5.2</td>\n",
       "      <td>-0.8</td>\n",
       "      <td>Iris-setosa</td>\n",
       "    </tr>\n",
       "    <tr>\n",
       "      <th>3</th>\n",
       "      <td>3</td>\n",
       "      <td>4.6</td>\n",
       "      <td>NaN</td>\n",
       "      <td>1.5</td>\n",
       "      <td>NaN</td>\n",
       "      <td>9.2</td>\n",
       "      <td>-6.2</td>\n",
       "      <td>6.0</td>\n",
       "      <td>-0.8</td>\n",
       "      <td>Iris-setosa</td>\n",
       "    </tr>\n",
       "    <tr>\n",
       "      <th>4</th>\n",
       "      <td>4</td>\n",
       "      <td>NaN</td>\n",
       "      <td>3.6</td>\n",
       "      <td>NaN</td>\n",
       "      <td>NaN</td>\n",
       "      <td>10.0</td>\n",
       "      <td>-7.2</td>\n",
       "      <td>5.6</td>\n",
       "      <td>-0.8</td>\n",
       "      <td>Iris-setosa</td>\n",
       "    </tr>\n",
       "  </tbody>\n",
       "</table>\n",
       "</div>"
      ],
      "text/plain": [
       "   Unnamed: 0  sepal depth  sepal diameter  petal depth  petal diameter  \\\n",
       "0           0          NaN             NaN          NaN             NaN   \n",
       "1           1          4.9             3.0          1.4             0.2   \n",
       "2           2          4.7             3.2          NaN             NaN   \n",
       "3           3          4.6             NaN          1.5             NaN   \n",
       "4           4          NaN             3.6          NaN             NaN   \n",
       "\n",
       "   sepal length  sepal width  petal length  petal width       target  \n",
       "0          10.2         -7.0           5.6         -0.8  Iris-setosa  \n",
       "1           9.8         -6.0           5.6         -0.8  Iris-setosa  \n",
       "2           9.4         -6.4           5.2         -0.8  Iris-setosa  \n",
       "3           9.2         -6.2           6.0         -0.8  Iris-setosa  \n",
       "4          10.0         -7.2           5.6         -0.8  Iris-setosa  "
      ]
     },
     "execution_count": 18,
     "metadata": {},
     "output_type": "execute_result"
    }
   ],
   "source": [
    "#Printing head of our dataframe to analyze rows and attributes.\n",
    "df1.head(5)"
   ]
  },
  {
   "cell_type": "markdown",
   "metadata": {},
   "source": [
    "Dropping First Column and Plotting Nan Values on a Bar Plot"
   ]
  },
  {
   "cell_type": "code",
   "execution_count": 4,
   "metadata": {},
   "outputs": [
    {
     "data": {
      "text/plain": [
       "<AxesSubplot:>"
      ]
     },
     "execution_count": 4,
     "metadata": {},
     "output_type": "execute_result"
    },
    {
     "data": {
      "image/png": "[encoded data removed]",
      "text/plain": [
       "<Figure size 432x288 with 1 Axes>"
      ]
     },
     "metadata": {
      "needs_background": "light"
     },
     "output_type": "display_data"
    }
   ],
   "source": [
    "#Dropping the first column which is named as \"Unnamed: 0 because it just contains the row indexes.\"\n",
    "df1.drop('Unnamed: 0',axis=1,inplace=True)\n",
    "\n",
    "#Visualizing NaN Values on a bar plot\n",
    "df1.isna().sum()[df1.isna().sum()>0].plot(kind='bar')"
   ]
  },
  {
   "cell_type": "code",
   "execution_count": 5,
   "metadata": {},
   "outputs": [],
   "source": [
    "#Copying our original DataFrame into another as we are going to perform data wrangling techniques.\n",
    "df2=df1.copy(deep=True)\n",
    "\n"
   ]
  },
  {
   "cell_type": "markdown",
   "metadata": {},
   "source": [
    "Performing Imputation using Mean strategy as numeric columns contain Nan Values"
   ]
  },
  {
   "cell_type": "code",
   "execution_count": 6,
   "metadata": {},
   "outputs": [],
   "source": [
    "#Doing imputation on the specific columns containing Nan Values.\n",
    "#Will be using the strategy of mean as we have missing values only in numeric attributes.\n",
    "imp=SimpleImputer(missing_values=np.nan,strategy='mean')\n",
    "df2['sepal depth']=imp.fit_transform(df2['sepal depth'].values.reshape(-1,1))[:,0]\n",
    "df2['sepal diameter']=imp.fit_transform(df2['sepal diameter'].values.reshape(-1,1))[:,0]\n",
    "df2['petal depth']=imp.fit_transform(df2['petal depth'].values.reshape(-1,1))[:,0]\n",
    "df2['petal diameter']=imp.fit_transform(df2['petal diameter'].values.reshape(-1,1))[:,0]\n",
    "\n",
    "\n"
   ]
  },
  {
   "cell_type": "markdown",
   "metadata": {},
   "source": [
    "No NaN values remain"
   ]
  },
  {
   "cell_type": "code",
   "execution_count": 7,
   "metadata": {},
   "outputs": [
    {
     "data": {
      "text/plain": [
       "<AxesSubplot:>"
      ]
     },
     "execution_count": 7,
     "metadata": {},
     "output_type": "execute_result"
    },
    {
     "data": {
      "image/png": "[encoded data removed]",
      "text/plain": [
       "<Figure size 432x288 with 1 Axes>"
      ]
     },
     "metadata": {
      "needs_background": "light"
     },
     "output_type": "display_data"
    }
   ],
   "source": [
    "#Plotting Nan Values on a bar plot to show that no Nan values remain.\n",
    "df2.isna().sum().plot(kind='bar')"
   ]
  },
  {
   "cell_type": "markdown",
   "metadata": {},
   "source": [
    "HeatMap of Correlation Matrix"
   ]
  },
  {
   "cell_type": "code",
   "execution_count": 8,
   "metadata": {},
   "outputs": [
    {
     "data": {
      "text/plain": [
       "<AxesSubplot:>"
      ]
     },
     "execution_count": 8,
     "metadata": {},
     "output_type": "execute_result"
    },
    {
     "data": {
      "image/png": "[encoded data removed]",
      "text/plain": [
       "<Figure size 432x288 with 2 Axes>"
      ]
     },
     "metadata": {
      "needs_background": "light"
     },
     "output_type": "display_data"
    }
   ],
   "source": [
    "# Plotting correlation between all attributes on a heatmap.\n",
    "sns.heatmap(df2.corr())"
   ]
  },
  {
   "cell_type": "markdown",
   "metadata": {},
   "source": [
    "Correlation Matrix"
   ]
  },
  {
   "cell_type": "code",
   "execution_count": 9,
   "metadata": {},
   "outputs": [
    {
     "name": "stderr",
     "output_type": "stream",
     "text": [
      "C:\\Users\\tofee\\AppData\\Local\\Temp\\ipykernel_3472\\3552661095.py:3: FutureWarning: this method is deprecated in favour of `Styler.format(precision=..)`\n",
      "  corr.style.background_gradient(cmap='coolwarm').set_precision(3)\n"
     ]
    },
    {
     "data": {
      "text/html": [
       "<style type=\"text/css\">\n",
       "#T_9dcb7_row0_col0, #T_9dcb7_row1_col1, #T_9dcb7_row2_col2, #T_9dcb7_row3_col3, #T_9dcb7_row4_col4, #T_9dcb7_row5_col5, #T_9dcb7_row6_col6, #T_9dcb7_row7_col7 {\n",
       "  background-color: #b40426;\n",
       "  color: #f1f1f1;\n",
       "}\n",
       "#T_9dcb7_row0_col1 {\n",
       "  background-color: #d6dce4;\n",
       "  color: #000000;\n",
       "}\n",
       "#T_9dcb7_row0_col2, #T_9dcb7_row3_col2, #T_9dcb7_row6_col0 {\n",
       "  background-color: #da5a49;\n",
       "  color: #f1f1f1;\n",
       "}\n",
       "#T_9dcb7_row0_col3, #T_9dcb7_row3_col0 {\n",
       "  background-color: #ec7f63;\n",
       "  color: #f1f1f1;\n",
       "}\n",
       "#T_9dcb7_row0_col4 {\n",
       "  background-color: #c0282f;\n",
       "  color: #f1f1f1;\n",
       "}\n",
       "#T_9dcb7_row0_col5, #T_9dcb7_row3_col5 {\n",
       "  background-color: #dadce0;\n",
       "  color: #000000;\n",
       "}\n",
       "#T_9dcb7_row0_col6 {\n",
       "  background-color: #d75445;\n",
       "  color: #f1f1f1;\n",
       "}\n",
       "#T_9dcb7_row0_col7 {\n",
       "  background-color: #5d7ce6;\n",
       "  color: #f1f1f1;\n",
       "}\n",
       "#T_9dcb7_row1_col0 {\n",
       "  background-color: #cad8ef;\n",
       "  color: #000000;\n",
       "}\n",
       "#T_9dcb7_row1_col2 {\n",
       "  background-color: #b5cdfa;\n",
       "  color: #000000;\n",
       "}\n",
       "#T_9dcb7_row1_col3 {\n",
       "  background-color: #bfd3f6;\n",
       "  color: #000000;\n",
       "}\n",
       "#T_9dcb7_row1_col4 {\n",
       "  background-color: #c7d7f0;\n",
       "  color: #000000;\n",
       "}\n",
       "#T_9dcb7_row1_col5, #T_9dcb7_row5_col1, #T_9dcb7_row6_col7, #T_9dcb7_row7_col0, #T_9dcb7_row7_col2, #T_9dcb7_row7_col3, #T_9dcb7_row7_col4, #T_9dcb7_row7_col6 {\n",
       "  background-color: #3b4cc0;\n",
       "  color: #f1f1f1;\n",
       "}\n",
       "#T_9dcb7_row1_col6 {\n",
       "  background-color: #abc8fd;\n",
       "  color: #000000;\n",
       "}\n",
       "#T_9dcb7_row1_col7 {\n",
       "  background-color: #f3c8b2;\n",
       "  color: #000000;\n",
       "}\n",
       "#T_9dcb7_row2_col0, #T_9dcb7_row2_col3 {\n",
       "  background-color: #dd5f4b;\n",
       "  color: #f1f1f1;\n",
       "}\n",
       "#T_9dcb7_row2_col1 {\n",
       "  background-color: #bbd1f8;\n",
       "  color: #000000;\n",
       "}\n",
       "#T_9dcb7_row2_col4, #T_9dcb7_row4_col2 {\n",
       "  background-color: #dc5d4a;\n",
       "  color: #f1f1f1;\n",
       "}\n",
       "#T_9dcb7_row2_col5 {\n",
       "  background-color: #f3c7b1;\n",
       "  color: #000000;\n",
       "}\n",
       "#T_9dcb7_row2_col6, #T_9dcb7_row6_col4 {\n",
       "  background-color: #cd423b;\n",
       "  color: #f1f1f1;\n",
       "}\n",
       "#T_9dcb7_row2_col7, #T_9dcb7_row4_col7 {\n",
       "  background-color: #506bda;\n",
       "  color: #f1f1f1;\n",
       "}\n",
       "#T_9dcb7_row3_col1, #T_9dcb7_row4_col1 {\n",
       "  background-color: #cdd9ec;\n",
       "  color: #000000;\n",
       "}\n",
       "#T_9dcb7_row3_col4 {\n",
       "  background-color: #ee8669;\n",
       "  color: #f1f1f1;\n",
       "}\n",
       "#T_9dcb7_row3_col6 {\n",
       "  background-color: #e7745b;\n",
       "  color: #f1f1f1;\n",
       "}\n",
       "#T_9dcb7_row3_col7 {\n",
       "  background-color: #5f7fe8;\n",
       "  color: #f1f1f1;\n",
       "}\n",
       "#T_9dcb7_row4_col0 {\n",
       "  background-color: #c12b30;\n",
       "  color: #f1f1f1;\n",
       "}\n",
       "#T_9dcb7_row4_col3 {\n",
       "  background-color: #f08a6c;\n",
       "  color: #f1f1f1;\n",
       "}\n",
       "#T_9dcb7_row4_col5 {\n",
       "  background-color: #e3d9d3;\n",
       "  color: #000000;\n",
       "}\n",
       "#T_9dcb7_row4_col6 {\n",
       "  background-color: #cb3e38;\n",
       "  color: #f1f1f1;\n",
       "}\n",
       "#T_9dcb7_row5_col0 {\n",
       "  background-color: #cfdaea;\n",
       "  color: #000000;\n",
       "}\n",
       "#T_9dcb7_row5_col2 {\n",
       "  background-color: #f2cbb7;\n",
       "  color: #000000;\n",
       "}\n",
       "#T_9dcb7_row5_col3 {\n",
       "  background-color: #cedaeb;\n",
       "  color: #000000;\n",
       "}\n",
       "#T_9dcb7_row5_col4 {\n",
       "  background-color: #dfdbd9;\n",
       "  color: #000000;\n",
       "}\n",
       "#T_9dcb7_row5_col6 {\n",
       "  background-color: #f7aa8c;\n",
       "  color: #000000;\n",
       "}\n",
       "#T_9dcb7_row5_col7 {\n",
       "  background-color: #a2c1ff;\n",
       "  color: #000000;\n",
       "}\n",
       "#T_9dcb7_row6_col1 {\n",
       "  background-color: #a1c0ff;\n",
       "  color: #000000;\n",
       "}\n",
       "#T_9dcb7_row6_col2 {\n",
       "  background-color: #d0473d;\n",
       "  color: #f1f1f1;\n",
       "}\n",
       "#T_9dcb7_row6_col3 {\n",
       "  background-color: #eb7d62;\n",
       "  color: #f1f1f1;\n",
       "}\n",
       "#T_9dcb7_row6_col5 {\n",
       "  background-color: #f7af91;\n",
       "  color: #000000;\n",
       "}\n",
       "#T_9dcb7_row7_col1 {\n",
       "  background-color: #f1ccb8;\n",
       "  color: #000000;\n",
       "}\n",
       "#T_9dcb7_row7_col5 {\n",
       "  background-color: #97b8ff;\n",
       "  color: #000000;\n",
       "}\n",
       "</style>\n",
       "<table id=\"T_9dcb7_\">\n",
       "  <thead>\n",
       "    <tr>\n",
       "      <th class=\"blank level0\" >&nbsp;</th>\n",
       "      <th class=\"col_heading level0 col0\" >sepal depth</th>\n",
       "      <th class=\"col_heading level0 col1\" >sepal diameter</th>\n",
       "      <th class=\"col_heading level0 col2\" >petal depth</th>\n",
       "      <th class=\"col_heading level0 col3\" >petal diameter</th>\n",
       "      <th class=\"col_heading level0 col4\" >sepal length</th>\n",
       "      <th class=\"col_heading level0 col5\" >sepal width</th>\n",
       "      <th class=\"col_heading level0 col6\" >petal length</th>\n",
       "      <th class=\"col_heading level0 col7\" >petal width</th>\n",
       "    </tr>\n",
       "  </thead>\n",
       "  <tbody>\n",
       "    <tr>\n",
       "      <th id=\"T_9dcb7_level0_row0\" class=\"row_heading level0 row0\" >sepal depth</th>\n",
       "      <td id=\"T_9dcb7_row0_col0\" class=\"data row0 col0\" >1.000</td>\n",
       "      <td id=\"T_9dcb7_row0_col1\" class=\"data row0 col1\" >0.011</td>\n",
       "      <td id=\"T_9dcb7_row0_col2\" class=\"data row0 col2\" >0.788</td>\n",
       "      <td id=\"T_9dcb7_row0_col3\" class=\"data row0 col3\" >0.670</td>\n",
       "      <td id=\"T_9dcb7_row0_col4\" class=\"data row0 col4\" >0.938</td>\n",
       "      <td id=\"T_9dcb7_row0_col5\" class=\"data row0 col5\" >0.044</td>\n",
       "      <td id=\"T_9dcb7_row0_col6\" class=\"data row0 col6\" >0.796</td>\n",
       "      <td id=\"T_9dcb7_row0_col7\" class=\"data row0 col7\" >-0.743</td>\n",
       "    </tr>\n",
       "    <tr>\n",
       "      <th id=\"T_9dcb7_level0_row1\" class=\"row_heading level0 row1\" >sepal diameter</th>\n",
       "      <td id=\"T_9dcb7_row1_col0\" class=\"data row1 col0\" >0.011</td>\n",
       "      <td id=\"T_9dcb7_row1_col1\" class=\"data row1 col1\" >1.000</td>\n",
       "      <td id=\"T_9dcb7_row1_col2\" class=\"data row1 col2\" >-0.154</td>\n",
       "      <td id=\"T_9dcb7_row1_col3\" class=\"data row1 col3\" >-0.046</td>\n",
       "      <td id=\"T_9dcb7_row1_col4\" class=\"data row1 col4\" >-0.046</td>\n",
       "      <td id=\"T_9dcb7_row1_col5\" class=\"data row1 col5\" >-0.880</td>\n",
       "      <td id=\"T_9dcb7_row1_col6\" class=\"data row1 col6\" >-0.302</td>\n",
       "      <td id=\"T_9dcb7_row1_col7\" class=\"data row1 col7\" >0.238</td>\n",
       "    </tr>\n",
       "    <tr>\n",
       "      <th id=\"T_9dcb7_level0_row2\" class=\"row_heading level0 row2\" >petal depth</th>\n",
       "      <td id=\"T_9dcb7_row2_col0\" class=\"data row2 col0\" >0.788</td>\n",
       "      <td id=\"T_9dcb7_row2_col1\" class=\"data row2 col1\" >-0.154</td>\n",
       "      <td id=\"T_9dcb7_row2_col2\" class=\"data row2 col2\" >1.000</td>\n",
       "      <td id=\"T_9dcb7_row2_col3\" class=\"data row2 col3\" >0.790</td>\n",
       "      <td id=\"T_9dcb7_row2_col4\" class=\"data row2 col4\" >0.786</td>\n",
       "      <td id=\"T_9dcb7_row2_col5\" class=\"data row2 col5\" >0.273</td>\n",
       "      <td id=\"T_9dcb7_row2_col6\" class=\"data row2 col6\" >0.855</td>\n",
       "      <td id=\"T_9dcb7_row2_col7\" class=\"data row2 col7\" >-0.819</td>\n",
       "    </tr>\n",
       "    <tr>\n",
       "      <th id=\"T_9dcb7_level0_row3\" class=\"row_heading level0 row3\" >petal diameter</th>\n",
       "      <td id=\"T_9dcb7_row3_col0\" class=\"data row3 col0\" >0.670</td>\n",
       "      <td id=\"T_9dcb7_row3_col1\" class=\"data row3 col1\" >-0.046</td>\n",
       "      <td id=\"T_9dcb7_row3_col2\" class=\"data row3 col2\" >0.790</td>\n",
       "      <td id=\"T_9dcb7_row3_col3\" class=\"data row3 col3\" >1.000</td>\n",
       "      <td id=\"T_9dcb7_row3_col4\" class=\"data row3 col4\" >0.629</td>\n",
       "      <td id=\"T_9dcb7_row3_col5\" class=\"data row3 col5\" >0.040</td>\n",
       "      <td id=\"T_9dcb7_row3_col6\" class=\"data row3 col6\" >0.675</td>\n",
       "      <td id=\"T_9dcb7_row3_col7\" class=\"data row3 col7\" >-0.732</td>\n",
       "    </tr>\n",
       "    <tr>\n",
       "      <th id=\"T_9dcb7_level0_row4\" class=\"row_heading level0 row4\" >sepal length</th>\n",
       "      <td id=\"T_9dcb7_row4_col0\" class=\"data row4 col0\" >0.938</td>\n",
       "      <td id=\"T_9dcb7_row4_col1\" class=\"data row4 col1\" >-0.046</td>\n",
       "      <td id=\"T_9dcb7_row4_col2\" class=\"data row4 col2\" >0.786</td>\n",
       "      <td id=\"T_9dcb7_row4_col3\" class=\"data row4 col3\" >0.629</td>\n",
       "      <td id=\"T_9dcb7_row4_col4\" class=\"data row4 col4\" >1.000</td>\n",
       "      <td id=\"T_9dcb7_row4_col5\" class=\"data row4 col5\" >0.109</td>\n",
       "      <td id=\"T_9dcb7_row4_col6\" class=\"data row4 col6\" >0.872</td>\n",
       "      <td id=\"T_9dcb7_row4_col7\" class=\"data row4 col7\" >-0.818</td>\n",
       "    </tr>\n",
       "    <tr>\n",
       "      <th id=\"T_9dcb7_level0_row5\" class=\"row_heading level0 row5\" >sepal width</th>\n",
       "      <td id=\"T_9dcb7_row5_col0\" class=\"data row5 col0\" >0.044</td>\n",
       "      <td id=\"T_9dcb7_row5_col1\" class=\"data row5 col1\" >-0.880</td>\n",
       "      <td id=\"T_9dcb7_row5_col2\" class=\"data row5 col2\" >0.273</td>\n",
       "      <td id=\"T_9dcb7_row5_col3\" class=\"data row5 col3\" >0.040</td>\n",
       "      <td id=\"T_9dcb7_row5_col4\" class=\"data row5 col4\" >0.109</td>\n",
       "      <td id=\"T_9dcb7_row5_col5\" class=\"data row5 col5\" >1.000</td>\n",
       "      <td id=\"T_9dcb7_row5_col6\" class=\"data row5 col6\" >0.421</td>\n",
       "      <td id=\"T_9dcb7_row5_col7\" class=\"data row5 col7\" >-0.357</td>\n",
       "    </tr>\n",
       "    <tr>\n",
       "      <th id=\"T_9dcb7_level0_row6\" class=\"row_heading level0 row6\" >petal length</th>\n",
       "      <td id=\"T_9dcb7_row6_col0\" class=\"data row6 col0\" >0.796</td>\n",
       "      <td id=\"T_9dcb7_row6_col1\" class=\"data row6 col1\" >-0.302</td>\n",
       "      <td id=\"T_9dcb7_row6_col2\" class=\"data row6 col2\" >0.855</td>\n",
       "      <td id=\"T_9dcb7_row6_col3\" class=\"data row6 col3\" >0.675</td>\n",
       "      <td id=\"T_9dcb7_row6_col4\" class=\"data row6 col4\" >0.872</td>\n",
       "      <td id=\"T_9dcb7_row6_col5\" class=\"data row6 col5\" >0.421</td>\n",
       "      <td id=\"T_9dcb7_row6_col6\" class=\"data row6 col6\" >1.000</td>\n",
       "      <td id=\"T_9dcb7_row6_col7\" class=\"data row6 col7\" >-0.963</td>\n",
       "    </tr>\n",
       "    <tr>\n",
       "      <th id=\"T_9dcb7_level0_row7\" class=\"row_heading level0 row7\" >petal width</th>\n",
       "      <td id=\"T_9dcb7_row7_col0\" class=\"data row7 col0\" >-0.743</td>\n",
       "      <td id=\"T_9dcb7_row7_col1\" class=\"data row7 col1\" >0.238</td>\n",
       "      <td id=\"T_9dcb7_row7_col2\" class=\"data row7 col2\" >-0.819</td>\n",
       "      <td id=\"T_9dcb7_row7_col3\" class=\"data row7 col3\" >-0.732</td>\n",
       "      <td id=\"T_9dcb7_row7_col4\" class=\"data row7 col4\" >-0.818</td>\n",
       "      <td id=\"T_9dcb7_row7_col5\" class=\"data row7 col5\" >-0.357</td>\n",
       "      <td id=\"T_9dcb7_row7_col6\" class=\"data row7 col6\" >-0.963</td>\n",
       "      <td id=\"T_9dcb7_row7_col7\" class=\"data row7 col7\" >1.000</td>\n",
       "    </tr>\n",
       "  </tbody>\n",
       "</table>\n"
      ],
      "text/plain": [
       "<pandas.io.formats.style.Styler at 0x13c3efefaf0>"
      ]
     },
     "execution_count": 9,
     "metadata": {},
     "output_type": "execute_result"
    }
   ],
   "source": [
    "#Correlation Matrix of our DataFrame showing the correlation between all attributes.\n",
    "corr=df2.corr()\n",
    "corr.style.background_gradient(cmap='coolwarm').set_precision(3)"
   ]
  },
  {
   "cell_type": "markdown",
   "metadata": {},
   "source": [
    "Dropping Columns having Correlation > 0.5 or < 0.5, will be using Upper Triangular as main purpose is to ignore diagonal."
   ]
  },
  {
   "cell_type": "code",
   "execution_count": 10,
   "metadata": {},
   "outputs": [
    {
     "name": "stdout",
     "output_type": "stream",
     "text": [
      "['petal depth', 'petal diameter', 'sepal length', 'sepal width', 'petal length', 'petal width']\n",
      "[]\n"
     ]
    }
   ],
   "source": [
    "#Making a seperate DataFrame for absolute correlation values.\n",
    "corr_matrix = df2.corr().abs()\n",
    "\n",
    "#As on the diagonal we will be having values of perfect 1, so we have to ignore them and chose values above\n",
    "# the diagonal or below. We will be using the upper triangular matrix.\n",
    "upper = corr_matrix.where(np.triu(np.ones(corr_matrix.shape), k=1).astype(bool))\n",
    "\n",
    "#Columns to be dropped having corr > 0.5 or <-0.5 as stored in this list.\n",
    "to_drop = [column for column in upper.columns if any(upper[column] > 0.5)]\n",
    "to_drop2=[column for column in upper.columns if any(upper[column] < -0.5)]\n",
    "\n",
    "#Printing the columns to be dropped.\n",
    "print(to_drop)\n",
    "print(to_drop2)\n",
    "\n",
    "#Dropping the columns.\n",
    "df2.drop(to_drop, axis=1, inplace=True)\n",
    "df2.drop(to_drop2,axis=1,inplace=True)"
   ]
  },
  {
   "cell_type": "markdown",
   "metadata": {},
   "source": [
    "Correlation of columns that remain."
   ]
  },
  {
   "cell_type": "code",
   "execution_count": 11,
   "metadata": {},
   "outputs": [
    {
     "name": "stderr",
     "output_type": "stream",
     "text": [
      "C:\\Users\\tofee\\AppData\\Local\\Temp\\ipykernel_3472\\71595591.py:3: FutureWarning: this method is deprecated in favour of `Styler.format(precision=..)`\n",
      "  corr.style.background_gradient(cmap='coolwarm').set_precision(3)\n"
     ]
    },
    {
     "data": {
      "text/html": [
       "<style type=\"text/css\">\n",
       "#T_83fee_row0_col0, #T_83fee_row1_col1 {\n",
       "  background-color: #b40426;\n",
       "  color: #f1f1f1;\n",
       "}\n",
       "#T_83fee_row0_col1, #T_83fee_row1_col0 {\n",
       "  background-color: #3b4cc0;\n",
       "  color: #f1f1f1;\n",
       "}\n",
       "</style>\n",
       "<table id=\"T_83fee_\">\n",
       "  <thead>\n",
       "    <tr>\n",
       "      <th class=\"blank level0\" >&nbsp;</th>\n",
       "      <th class=\"col_heading level0 col0\" >sepal depth</th>\n",
       "      <th class=\"col_heading level0 col1\" >sepal diameter</th>\n",
       "    </tr>\n",
       "  </thead>\n",
       "  <tbody>\n",
       "    <tr>\n",
       "      <th id=\"T_83fee_level0_row0\" class=\"row_heading level0 row0\" >sepal depth</th>\n",
       "      <td id=\"T_83fee_row0_col0\" class=\"data row0 col0\" >1.000</td>\n",
       "      <td id=\"T_83fee_row0_col1\" class=\"data row0 col1\" >0.011</td>\n",
       "    </tr>\n",
       "    <tr>\n",
       "      <th id=\"T_83fee_level0_row1\" class=\"row_heading level0 row1\" >sepal diameter</th>\n",
       "      <td id=\"T_83fee_row1_col0\" class=\"data row1 col0\" >0.011</td>\n",
       "      <td id=\"T_83fee_row1_col1\" class=\"data row1 col1\" >1.000</td>\n",
       "    </tr>\n",
       "  </tbody>\n",
       "</table>\n"
      ],
      "text/plain": [
       "<pandas.io.formats.style.Styler at 0x13c3f1bd250>"
      ]
     },
     "execution_count": 11,
     "metadata": {},
     "output_type": "execute_result"
    }
   ],
   "source": [
    "#Printing the columns that remain.\n",
    "corr=df2.corr()\n",
    "corr.style.background_gradient(cmap='coolwarm').set_precision(3)"
   ]
  },
  {
   "cell_type": "code",
   "execution_count": 12,
   "metadata": {},
   "outputs": [],
   "source": [
    "writer=pd.ExcelWriter('clean_iris.xlsx')"
   ]
  },
  {
   "cell_type": "code",
   "execution_count": 13,
   "metadata": {},
   "outputs": [],
   "source": [
    "df2.to_excel(writer)"
   ]
  },
  {
   "cell_type": "code",
   "execution_count": 14,
   "metadata": {},
   "outputs": [],
   "source": [
    "writer.save()"
   ]
  }
 ],
 "metadata": {
  "kernelspec": {
   "display_name": "Python 3.9.7 ('base')",
   "language": "python",
   "name": "python3"
  },
  "language_info": {
   "codemirror_mode": {
    "name": "ipython",
    "version": 3
   },
   "file_extension": ".py",
   "mimetype": "text/x-python",
   "name": "python",
   "nbconvert_exporter": "python",
   "pygments_lexer": "ipython3",
   "version": "3.9.7"
  },
  "orig_nbformat": 4,
  "vscode": {
   "interpreter": {
    "hash": "c740ea5def09f529fca43e393decf6813c4c94f46b1946a67c79136a2ec35a9e"
   }
  }
 },
 "nbformat": 4,
 "nbformat_minor": 2
}
