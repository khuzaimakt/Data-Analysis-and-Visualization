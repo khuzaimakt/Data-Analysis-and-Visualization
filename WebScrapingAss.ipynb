{
 "cells": [
  {
   "cell_type": "code",
   "execution_count": 12,
   "metadata": {},
   "outputs": [],
   "source": [
    "import selenium\n",
    "from selenium import webdriver\n",
    "from selenium.webdriver.common.by import By\n",
    "from selenium.webdriver.support import expected_conditions as EC\n",
    "from selenium.webdriver.support.ui import WebDriverWait\n",
    "from selenium.webdriver.common.keys import Keys\n",
    "from time import sleep"
   ]
  },
  {
   "cell_type": "code",
   "execution_count": 13,
   "metadata": {},
   "outputs": [],
   "source": [
    "class YoutubeScrape:\n",
    "    def __init__(self,url):\n",
    "        self.driver=webdriver.Chrome()\n",
    "        self.driver.get(url)\n",
    "        self.videos=[]\n",
    "        self.titles=[]\n",
    "        self.views=[]\n",
    "        self.comments=[]\n",
    "\n",
    "\n",
    "    def GetVideos(self):\n",
    "        self.videos=self.driver.find_elements(By.CLASS_NAME,\"style-scope ytd-grid-video-renderer\")\n",
    "    \n",
    "    def GetTitles(self):\n",
    "        for video in self.videos:\n",
    "            self.titles=self.driver.find_elements(By.XPATH,'.//*[@id=\"video-title\"]')\n",
    "            \n",
    "\n",
    "        for title in self.titles:\n",
    "            print(title.text)\n",
    "    \n",
    "\n",
    "    def GetViews(self):\n",
    "        for video in self.videos:\n",
    "            self.views  = self.driver.find_elements(By.XPATH,'.//*[@id=\"metadata-line\"]/span[1]')\n",
    "        \n",
    "        for view in self.views:\n",
    "            print(view.text)\n",
    "\n",
    "\n",
    "    def GetComments(self):\n",
    "        \n",
    "        # self.comments=self.driver.find_elements(By.XPATH, '//*[@id=\"content-text\"]')\n",
    "        \n",
    "        # for comment in self.comments:\n",
    "        #     print(comment.text)\n",
    "        self.driver.find_element(By.TAG_NAME, 'body').send_keys(Keys.PAGE_DOWN)\n",
    "        sleep(3)\n",
    "        section = self.driver.find_element(By.ID, \"comments\")\n",
    "        self.comments = section.find_elements(By.ID, \"content-text\")\n",
    "        for comment in self.comments:\n",
    "            print(comment.text)\n",
    "\n",
    "\n",
    "\n",
    "    def shutdown_obj(self):\n",
    "        self.driver.close()\n",
    "\n",
    "                "
   ]
  },
  {
   "cell_type": "code",
   "execution_count": 17,
   "metadata": {},
   "outputs": [],
   "source": [
    "\n",
    "url='https://www.youtube.com/watch?v=zFMJZro-zmc'\n",
    "Chanel=YoutubeScrape(url)"
   ]
  },
  {
   "cell_type": "code",
   "execution_count": 18,
   "metadata": {},
   "outputs": [],
   "source": [
    "Chanel.GetVideos()"
   ]
  },
  {
   "cell_type": "code",
   "execution_count": 19,
   "metadata": {},
   "outputs": [
    {
     "name": "stdout",
     "output_type": "stream",
     "text": [
      "Lyrics:\n",
      "\n",
      "\"Kaisay hain ye lamhay jo beetein Na \n",
      "Har pal yaadon ki dhun mei jhee raha \n",
      "Mark my word mate we will see you on Coke Studio once you are discovered and I feel it in my heart that won't be too long you're music is just so smooth. Thank you for this track !\n",
      "Just listen this song on Instagram music and now am obsessed with the song. Very smooth and peaceful song!!! <3\n",
      "Yeh border ke paar sab aesthetic hain kya?\n",
      "Loved it bro\n",
      "This instantly became my new favourite the moment I heard it randomly on sound cloud, came here to let you know this is amazing tbvh. ️\n",
      "Edit: oi oi oi look at the likes I mean they even exceeded the creator's lyrics comment wow ok thank you I guess! <3\n",
      "Came here randomly from Soundcloud. You go big lil bro! Keep this up ️\n",
      "It should be declared illegal to dislike this song!!! An absolute Masterpiece ️️️️️🇵🇰\n",
      "Have been a die hard fan of yours since 2015 when i first heard you. Really proud of you for how far you have come. InshAllah you will continue to grow and prosper honey ️\n",
      "Just amazing , your voice is so soothing \n",
      "Keep singing and keep shining \n",
      "The music, the voice, the aesthetics, the details... \n",
      "Last month i heard your voice and dude your all songs are on repeat since last month . Simply amazing ️\n",
      "Loved this song .... nA the tumhare ️\n",
      "Just close your eyes and listen to this masterpiece\n",
      "Wow. Why did I not find it before. Love this track . \n",
      "Love from across the border. \n",
      "Criminally underrated song found it on soundcloud 4 days ago and I keep listening to it on repeat\n",
      "My god He's underrated gem! \n",
      "World needs to know him\n",
      "Ary yaar hats off \n",
      "It's a piece of Art \n",
      "This guy never fails to impress us with his music.\n",
      "Absolutely loved the melody n the voice. This is the track on my route to my work almost daily, and the video is so beautiful too. I loved how the director has elegantly portrayed common objects in such a meaningful and impressive way. \n",
      "Dumb me, have CAIEs in 3 days and here I am obsessing over a master piece....I just- WHY ARE YOUR SONGS SO GOOD and why am I finding it so late...this needs more attention\n",
      "Keep it up ,  your songs are burning inside of our souls ️\n"
     ]
    }
   ],
   "source": [
    "Chanel.GetComments()"
   ]
  },
  {
   "cell_type": "code",
   "execution_count": 6,
   "metadata": {},
   "outputs": [],
   "source": [
    "Chanel.GetTitles()"
   ]
  },
  {
   "cell_type": "code",
   "execution_count": 7,
   "metadata": {},
   "outputs": [],
   "source": [
    "Chanel.GetViews()"
   ]
  },
  {
   "cell_type": "code",
   "execution_count": null,
   "metadata": {},
   "outputs": [],
   "source": []
  }
 ],
 "metadata": {
  "kernelspec": {
   "display_name": "Python 3.9.7 ('base')",
   "language": "python",
   "name": "python3"
  },
  "language_info": {
   "codemirror_mode": {
    "name": "ipython",
    "version": 3
   },
   "file_extension": ".py",
   "mimetype": "text/x-python",
   "name": "python",
   "nbconvert_exporter": "python",
   "pygments_lexer": "ipython3",
   "version": "3.9.7"
  },
  "orig_nbformat": 4,
  "vscode": {
   "interpreter": {
    "hash": "c740ea5def09f529fca43e393decf6813c4c94f46b1946a67c79136a2ec35a9e"
   }
  }
 },
 "nbformat": 4,
 "nbformat_minor": 2
}
