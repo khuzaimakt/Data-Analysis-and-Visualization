{
 "cells": [
  {
   "cell_type": "markdown",
   "metadata": {},
   "source": [
    "Khuzaima Tofeeq 20L-1304 BDS-5A\n"
   ]
  },
  {
   "cell_type": "markdown",
   "metadata": {},
   "source": [
    "Importing Necessary Libraries Especially from Scikit-Learn"
   ]
  },
  {
   "cell_type": "code",
   "execution_count": 43,
   "metadata": {},
   "outputs": [],
   "source": [
    "import pandas as pd\n",
    "import matplotlib.pyplot as plt\n",
    "import seaborn as sns\n",
    "import numpy as np\n",
    "from sklearn.model_selection import train_test_split\n",
    "from sklearn.linear_model import LogisticRegression\n",
    "from sklearn.metrics import confusion_matrix\n",
    "from sklearn.metrics import accuracy_score"
   ]
  },
  {
   "cell_type": "markdown",
   "metadata": {},
   "source": [
    "Defining a class for our machine learning task.\n",
    " This class includes functions for\n"
   ]
  },
  {
   "cell_type": "markdown",
   "metadata": {},
   "source": [
    " 1: Reading an excel file into a pandas DataFrame.\n",
    " 2: Splitting our datasets into 80% Training and 20% Testing.\n",
    " 3: Mapping is done to convert so that the target variable has discrete numeric values like 1,2 for logistic regression.\n",
    " 4: Data is fitted to the logistic regression model using the training dataset.\n",
    " 5: Prediction is done based on the test dataset.\n",
    " 6: Model accuracy are shown through accuracy_score and confusion_matrix."
   ]
  },
  {
   "cell_type": "code",
   "execution_count": 44,
   "metadata": {},
   "outputs": [],
   "source": [
    "class TrainingModel():\n",
    "    def __init__(self,file):\n",
    "        self.filename=file\n",
    "        self.df=pd.DataFrame()\n",
    "        self.iris_train=pd.DataFrame()\n",
    "        self.iris_test=pd.DataFrame()\n",
    "        self.logreg=LogisticRegression()\n",
    "\n",
    "    def Read2DataFrame(self):\n",
    "        self.df=pd.read_excel(self.filename)\n",
    "        \n",
    "        self.df.drop('Unnamed: 0',axis=1,inplace=True)\n",
    "        column_means = self.df.mean()\n",
    "        self.df = self.df.fillna(column_means)\n",
    "        \n",
    "        \n",
    "    def Train_Test_Split(self):\n",
    "        self.iris_train,self.iris_test=train_test_split(self.df,test_size=0.2,random_state=42)\n",
    "       \n",
    "    def LogisticModel(self):\n",
    "        mapping = {\n",
    "        'Iris-setosa' : 1,\n",
    "        'Iris-versicolor' : 2,\n",
    "        'Iris-virginica' : 3\n",
    "        }\n",
    "\n",
    "        X_train,y_train = self.iris_train.iloc[:,:-1].values,self.iris_train.iloc[:,[-1]].replace(mapping).values\n",
    "        X_test,y_test=self.iris_test.iloc[:,:-1].values,self.iris_test.iloc[:,[-1]].replace(mapping).values\n",
    "\n",
    "        self.logreg.fit(X_train,y_train)\n",
    "        \n",
    "        y_pred=self.logreg.predict(X_test)\n",
    "\n",
    "        print(\"Accuracy of Logistic Regression Model:\", accuracy_score(y_test,y_pred))\n",
    "\n",
    "        print(confusion_matrix(y_test,y_pred))"
   ]
  },
  {
   "cell_type": "markdown",
   "metadata": {},
   "source": [
    "The accuracy for our cleaned iris dataset is 83%. Accuracy is low as compared to the original iris dataset as we may have removed features from the iris dataset which had some meaningful and distinct information in predicting the target. Hence the low accuracy."
   ]
  },
  {
   "cell_type": "code",
   "execution_count": 45,
   "metadata": {},
   "outputs": [
    {
     "name": "stdout",
     "output_type": "stream",
     "text": [
      "sepal depth       0\n",
      "sepal diameter    0\n",
      "target            0\n",
      "dtype: int64\n",
      "Accuracy of Logistic Regression Model: 0.8333333333333334\n",
      "[[ 7  3  0]\n",
      " [ 1  8  0]\n",
      " [ 0  1 10]]\n"
     ]
    },
    {
     "name": "stderr",
     "output_type": "stream",
     "text": [
      "C:\\Users\\tofee\\AppData\\Local\\Temp\\ipykernel_15380\\883273786.py:13: FutureWarning: Dropping of nuisance columns in DataFrame reductions (with 'numeric_only=None') is deprecated; in a future version this will raise TypeError.  Select only valid columns before calling the reduction.\n",
      "  column_means = self.df.mean()\n",
      "c:\\Users\\tofee\\anaconda3\\lib\\site-packages\\sklearn\\utils\\validation.py:63: DataConversionWarning: A column-vector y was passed when a 1d array was expected. Please change the shape of y to (n_samples, ), for example using ravel().\n",
      "  return f(*args, **kwargs)\n"
     ]
    }
   ],
   "source": [
    "file='clean_iris.xlsx'\n",
    "clean_iris=TrainingModel(file)\n",
    "clean_iris.Read2DataFrame()\n",
    "clean_iris.Train_Test_Split()\n",
    "clean_iris.LogisticModel()"
   ]
  },
  {
   "cell_type": "markdown",
   "metadata": {},
   "source": [
    "The accuracy of the original iris dataset is 100%. As this dataset has all the features required for the prediction of target. Moreover, the are also no missing values. Hence the 100% accuracy."
   ]
  },
  {
   "cell_type": "code",
   "execution_count": 46,
   "metadata": {},
   "outputs": [
    {
     "name": "stderr",
     "output_type": "stream",
     "text": [
      "C:\\Users\\tofee\\AppData\\Local\\Temp\\ipykernel_15380\\883273786.py:13: FutureWarning: Dropping of nuisance columns in DataFrame reductions (with 'numeric_only=None') is deprecated; in a future version this will raise TypeError.  Select only valid columns before calling the reduction.\n",
      "  column_means = self.df.mean()\n",
      "c:\\Users\\tofee\\anaconda3\\lib\\site-packages\\sklearn\\utils\\validation.py:63: DataConversionWarning: A column-vector y was passed when a 1d array was expected. Please change the shape of y to (n_samples, ), for example using ravel().\n",
      "  return f(*args, **kwargs)\n"
     ]
    },
    {
     "name": "stdout",
     "output_type": "stream",
     "text": [
      "sepal length    0\n",
      "sepal width     0\n",
      "petal length    0\n",
      "petal width     0\n",
      "target          0\n",
      "dtype: int64\n",
      "Accuracy of Logistic Regression Model: 1.0\n",
      "[[10  0  0]\n",
      " [ 0  9  0]\n",
      " [ 0  0 11]]\n"
     ]
    }
   ],
   "source": [
    "file='Original Iris.xlsx'\n",
    "original_iris=TrainingModel(file)\n",
    "original_iris.Read2DataFrame()\n",
    "original_iris.Train_Test_Split()\n",
    "original_iris.LogisticModel()"
   ]
  },
  {
   "cell_type": "markdown",
   "metadata": {},
   "source": [
    "The model couldn't train and predict on the my_iris dataset as this dataset has too many missing values in it."
   ]
  },
  {
   "cell_type": "code",
   "execution_count": 47,
   "metadata": {},
   "outputs": [
    {
     "name": "stderr",
     "output_type": "stream",
     "text": [
      "C:\\Users\\tofee\\AppData\\Local\\Temp\\ipykernel_15380\\883273786.py:13: FutureWarning: Dropping of nuisance columns in DataFrame reductions (with 'numeric_only=None') is deprecated; in a future version this will raise TypeError.  Select only valid columns before calling the reduction.\n",
      "  column_means = self.df.mean()\n"
     ]
    },
    {
     "name": "stdout",
     "output_type": "stream",
     "text": [
      "sepal depth       0\n",
      "sepal diameter    0\n",
      "petal depth       0\n",
      "petal diameter    0\n",
      "sepal length      0\n",
      "sepal width       0\n",
      "petal length      0\n",
      "petal width       0\n",
      "target            0\n",
      "dtype: int64\n",
      "Accuracy of Logistic Regression Model: 1.0\n",
      "[[10  0  0]\n",
      " [ 0  9  0]\n",
      " [ 0  0 11]]\n"
     ]
    },
    {
     "name": "stderr",
     "output_type": "stream",
     "text": [
      "c:\\Users\\tofee\\anaconda3\\lib\\site-packages\\sklearn\\utils\\validation.py:63: DataConversionWarning: A column-vector y was passed when a 1d array was expected. Please change the shape of y to (n_samples, ), for example using ravel().\n",
      "  return f(*args, **kwargs)\n",
      "c:\\Users\\tofee\\anaconda3\\lib\\site-packages\\sklearn\\linear_model\\_logistic.py:763: ConvergenceWarning: lbfgs failed to converge (status=1):\n",
      "STOP: TOTAL NO. of ITERATIONS REACHED LIMIT.\n",
      "\n",
      "Increase the number of iterations (max_iter) or scale the data as shown in:\n",
      "    https://scikit-learn.org/stable/modules/preprocessing.html\n",
      "Please also refer to the documentation for alternative solver options:\n",
      "    https://scikit-learn.org/stable/modules/linear_model.html#logistic-regression\n",
      "  n_iter_i = _check_optimize_result(\n"
     ]
    }
   ],
   "source": [
    "file='my_iris.xlsx'\n",
    "my_iris=TrainingModel(file)\n",
    "my_iris.Read2DataFrame()\n",
    "my_iris.Train_Test_Split()\n",
    "my_iris.LogisticModel()"
   ]
  }
 ],
 "metadata": {
  "kernelspec": {
   "display_name": "Python 3.9.7 ('base')",
   "language": "python",
   "name": "python3"
  },
  "language_info": {
   "codemirror_mode": {
    "name": "ipython",
    "version": 3
   },
   "file_extension": ".py",
   "mimetype": "text/x-python",
   "name": "python",
   "nbconvert_exporter": "python",
   "pygments_lexer": "ipython3",
   "version": "3.9.7"
  },
  "orig_nbformat": 4,
  "vscode": {
   "interpreter": {
    "hash": "c740ea5def09f529fca43e393decf6813c4c94f46b1946a67c79136a2ec35a9e"
   }
  }
 },
 "nbformat": 4,
 "nbformat_minor": 2
}
