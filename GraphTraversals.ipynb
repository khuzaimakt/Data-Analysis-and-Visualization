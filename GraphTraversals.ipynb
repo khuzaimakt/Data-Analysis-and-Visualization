{
 "cells": [
  {
   "cell_type": "code",
   "execution_count": 2,
   "metadata": {},
   "outputs": [],
   "source": [
    "class DiGraph:\n",
    "    def __init__(self):\n",
    "        self.g={}\n",
    "    \n",
    "\n",
    "    def add_node(self, node):\n",
    "        if node in self.g:\n",
    "            raise ValueError(\"Node already in graph\")\n",
    "        \n",
    "        self.g[node] = []\n",
    "\n",
    "    def add_edge(self,src,dest):\n",
    "        if src not in self.g:\n",
    "            raise ValueError(\"Source not in graph\")\n",
    "        if dest not in self.g:\n",
    "            raise ValueError(\"Destination not in graph\")\n",
    "\n",
    "        nexts=self.g[src]\n",
    "        if dest in nexts:\n",
    "            return\n",
    "        nexts.append(dest)\n",
    "\n",
    "\n",
    "    "
   ]
  },
  {
   "cell_type": "code",
   "execution_count": 3,
   "metadata": {},
   "outputs": [],
   "source": [
    "g=DiGraph()\n",
    "\n",
    "nodes=['a','b','c','d','e','f']\n",
    "for n in nodes:\n",
    "    g.add_node(n)"
   ]
  },
  {
   "cell_type": "code",
   "execution_count": 4,
   "metadata": {},
   "outputs": [],
   "source": [
    "edges=[('a','b'),\n",
    "       ('a','c'),\n",
    "       ('b','c'),\n",
    "       ('b','d'),\n",
    "       ('c','d'),\n",
    "       ('d','c'),\n",
    "       ('e','f'),\n",
    "       ('f','c')]\n",
    "\n",
    "for e in edges:\n",
    "       g.add_edge(e[0],e[1])\n"
   ]
  },
  {
   "cell_type": "code",
   "execution_count": 5,
   "metadata": {},
   "outputs": [
    {
     "name": "stdout",
     "output_type": "stream",
     "text": [
      "{'a': ['b', 'c'], 'b': ['c', 'd'], 'c': ['d'], 'd': ['c'], 'e': ['f'], 'f': ['c']}\n"
     ]
    }
   ],
   "source": [
    "print(g.g)"
   ]
  },
  {
   "cell_type": "code",
   "execution_count": 6,
   "metadata": {},
   "outputs": [
    {
     "name": "stdout",
     "output_type": "stream",
     "text": [
      "{'a': ['b', 'c'],\n",
      " 'b': ['c', 'd'],\n",
      " 'c': ['d'],\n",
      " 'd': ['c'],\n",
      " 'e': ['f'],\n",
      " 'f': ['c']}\n"
     ]
    }
   ],
   "source": [
    "import pprint\n",
    "pprint.pprint(g.g)"
   ]
  },
  {
   "cell_type": "code",
   "execution_count": 7,
   "metadata": {},
   "outputs": [],
   "source": [
    "def traverse_graph_BFS(self,start):\n",
    "    q=[start]\n",
    "    visited=[]\n",
    "    while q:\n",
    "        current=q.pop(0)\n",
    "\n",
    "        if current in visited:\n",
    "            continue\n",
    "        print(current)\n",
    "        visited.append(current)\n",
    "\n",
    "        next_nodes=self.g[current]\n",
    "\n",
    "\n",
    "        for n in next_nodes:\n",
    "            q.append(n)\n",
    "\n",
    "DiGraph.traverse_graph=traverse_graph_BFS"
   ]
  },
  {
   "cell_type": "code",
   "execution_count": 8,
   "metadata": {},
   "outputs": [
    {
     "name": "stdout",
     "output_type": "stream",
     "text": [
      "a\n",
      "b\n",
      "c\n",
      "d\n"
     ]
    }
   ],
   "source": [
    "g.traverse_graph('a')"
   ]
  },
  {
   "cell_type": "code",
   "execution_count": 14,
   "metadata": {},
   "outputs": [],
   "source": [
    "def find_path_DFS(self,start,end,path=[]):\n",
    "    if start not in self.g:\n",
    "        raise ValueError(\"Start node not found\")\n",
    "    \n",
    "    path.append(start)\n",
    "    if start==end:\n",
    "        return path\n",
    "    \n",
    "    for node in self.g[start]:\n",
    "        if node not in path:\n",
    "            newpath=self.find_path_DFS(node,end,path)\n",
    "\n",
    "        if newpath:\n",
    "            return newpath\n",
    "    return None\n",
    "\n",
    "\n",
    "DiGraph.find_path_DFS = find_path_DFS\n",
    "\n",
    "\n"
   ]
  },
  {
   "cell_type": "code",
   "execution_count": 15,
   "metadata": {},
   "outputs": [
    {
     "data": {
      "text/plain": [
       "['a', 'b', 'c', 'd']"
      ]
     },
     "execution_count": 15,
     "metadata": {},
     "output_type": "execute_result"
    }
   ],
   "source": [
    "g.find_path_DFS('a','d')"
   ]
  },
  {
   "cell_type": "code",
   "execution_count": 20,
   "metadata": {},
   "outputs": [],
   "source": [
    "def find_path_BFS(self,start,end):\n",
    "    q=[start]\n",
    "    visited=[]\n",
    "\n",
    "    \n",
    "    while q:\n",
    "        \n",
    "        current=q.pop(0)\n",
    "        if current==end:\n",
    "            print(current)\n",
    "            break\n",
    "\n",
    "        if current in visited:\n",
    "            continue\n",
    "        print(current)\n",
    "        visited.append(current)\n",
    "\n",
    "        next_nodes=self.g[current]\n",
    "\n",
    "\n",
    "        for n in next_nodes:\n",
    "            q.append(n)\n",
    "\n",
    "DiGraph.find_path_BFS=find_path_BFS\n",
    "    "
   ]
  },
  {
   "cell_type": "code",
   "execution_count": 21,
   "metadata": {},
   "outputs": [
    {
     "name": "stdout",
     "output_type": "stream",
     "text": [
      "a\n",
      "b\n",
      "c\n",
      "d\n"
     ]
    }
   ],
   "source": [
    "g.find_path_BFS('a','d')"
   ]
  }
 ],
 "metadata": {
  "kernelspec": {
   "display_name": "Python 3.9.7 ('base')",
   "language": "python",
   "name": "python3"
  },
  "language_info": {
   "codemirror_mode": {
    "name": "ipython",
    "version": 3
   },
   "file_extension": ".py",
   "mimetype": "text/x-python",
   "name": "python",
   "nbconvert_exporter": "python",
   "pygments_lexer": "ipython3",
   "version": "3.9.7"
  },
  "orig_nbformat": 4,
  "vscode": {
   "interpreter": {
    "hash": "c740ea5def09f529fca43e393decf6813c4c94f46b1946a67c79136a2ec35a9e"
   }
  }
 },
 "nbformat": 4,
 "nbformat_minor": 2
}
