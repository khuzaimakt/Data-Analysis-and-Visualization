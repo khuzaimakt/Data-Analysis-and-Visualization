{
 "cells": [
  {
   "cell_type": "code",
   "execution_count": 111,
   "metadata": {},
   "outputs": [],
   "source": [
    "import pandas as pd\n",
    "import numpy as np\n",
    "import matplotlib.pyplot as plt"
   ]
  },
  {
   "cell_type": "code",
   "execution_count": 112,
   "metadata": {},
   "outputs": [],
   "source": [
    "df=pd.read_csv('Neural Networks In Action.csv')"
   ]
  },
  {
   "cell_type": "code",
   "execution_count": 113,
   "metadata": {},
   "outputs": [
    {
     "data": {
      "text/html": [
       "<div>\n",
       "<style scoped>\n",
       "    .dataframe tbody tr th:only-of-type {\n",
       "        vertical-align: middle;\n",
       "    }\n",
       "\n",
       "    .dataframe tbody tr th {\n",
       "        vertical-align: top;\n",
       "    }\n",
       "\n",
       "    .dataframe thead th {\n",
       "        text-align: right;\n",
       "    }\n",
       "</style>\n",
       "<table border=\"1\" class=\"dataframe\">\n",
       "  <thead>\n",
       "    <tr style=\"text-align: right;\">\n",
       "      <th></th>\n",
       "      <th>Neural Networks using Gradient Decent (XNOR Problem)</th>\n",
       "      <th>Unnamed: 1</th>\n",
       "      <th>Unnamed: 2</th>\n",
       "      <th>Unnamed: 3</th>\n",
       "      <th>Unnamed: 4</th>\n",
       "      <th>Unnamed: 5</th>\n",
       "      <th>Unnamed: 6</th>\n",
       "      <th>Unnamed: 7</th>\n",
       "      <th>Unnamed: 8</th>\n",
       "      <th>Unnamed: 9</th>\n",
       "      <th>Unnamed: 10</th>\n",
       "      <th>Unnamed: 11</th>\n",
       "      <th>Unnamed: 12</th>\n",
       "      <th>Unnamed: 13</th>\n",
       "      <th>Unnamed: 14</th>\n",
       "    </tr>\n",
       "  </thead>\n",
       "  <tbody>\n",
       "    <tr>\n",
       "      <th>0</th>\n",
       "      <td>NaN</td>\n",
       "      <td>NaN</td>\n",
       "      <td>NaN</td>\n",
       "      <td>NaN</td>\n",
       "      <td>NaN</td>\n",
       "      <td>NaN</td>\n",
       "      <td>NaN</td>\n",
       "      <td>NaN</td>\n",
       "      <td>NaN</td>\n",
       "      <td>NaN</td>\n",
       "      <td>NaN</td>\n",
       "      <td>NaN</td>\n",
       "      <td>NaN</td>\n",
       "      <td>NaN</td>\n",
       "      <td>NaN</td>\n",
       "    </tr>\n",
       "    <tr>\n",
       "      <th>1</th>\n",
       "      <td>i1</td>\n",
       "      <td>i2</td>\n",
       "      <td>w11</td>\n",
       "      <td>w12</td>\n",
       "      <td>w21</td>\n",
       "      <td>w22</td>\n",
       "      <td>h1</td>\n",
       "      <td>h2</td>\n",
       "      <td>wh1</td>\n",
       "      <td>wh2</td>\n",
       "      <td>o</td>\n",
       "      <td>t</td>\n",
       "      <td>Eo</td>\n",
       "      <td>Eh1</td>\n",
       "      <td>Eh2</td>\n",
       "    </tr>\n",
       "    <tr>\n",
       "      <th>2</th>\n",
       "      <td>0</td>\n",
       "      <td>0</td>\n",
       "      <td>1.110623657</td>\n",
       "      <td>1.110323739</td>\n",
       "      <td>1.237790479</td>\n",
       "      <td>1.110323739</td>\n",
       "      <td>0.5</td>\n",
       "      <td>0.5</td>\n",
       "      <td>1.204296592</td>\n",
       "      <td>1.203003699</td>\n",
       "      <td>0.7691734875</td>\n",
       "      <td>1</td>\n",
       "      <td>0.2308265125</td>\n",
       "      <td>0.1154752414</td>\n",
       "      <td>0.115351271</td>\n",
       "    </tr>\n",
       "    <tr>\n",
       "      <th>3</th>\n",
       "      <td>0</td>\n",
       "      <td>1</td>\n",
       "      <td>1.110623657</td>\n",
       "      <td>1.110323739</td>\n",
       "      <td>1.237790479</td>\n",
       "      <td>1.110323739</td>\n",
       "      <td>0.775179181</td>\n",
       "      <td>0.7521894616</td>\n",
       "      <td>1.204296592</td>\n",
       "      <td>1.203003699</td>\n",
       "      <td>0.8627631988</td>\n",
       "      <td>0</td>\n",
       "      <td>-0.8627631988</td>\n",
       "      <td>-0.4316132823</td>\n",
       "      <td>-0.4311499165</td>\n",
       "    </tr>\n",
       "    <tr>\n",
       "      <th>4</th>\n",
       "      <td>1</td>\n",
       "      <td>0</td>\n",
       "      <td>1.110623657</td>\n",
       "      <td>1.110323739</td>\n",
       "      <td>1.237790479</td>\n",
       "      <td>1.110323739</td>\n",
       "      <td>0.752245362</td>\n",
       "      <td>0.7521894616</td>\n",
       "      <td>1.204296592</td>\n",
       "      <td>1.203003699</td>\n",
       "      <td>0.8594601318</td>\n",
       "      <td>0</td>\n",
       "      <td>-0.8594601318</td>\n",
       "      <td>-0.4299608618</td>\n",
       "      <td>-0.42949927</td>\n",
       "    </tr>\n",
       "  </tbody>\n",
       "</table>\n",
       "</div>"
      ],
      "text/plain": [
       "  Neural Networks using Gradient Decent (XNOR Problem) Unnamed: 1  \\\n",
       "0                                                NaN          NaN   \n",
       "1                                                 i1           i2   \n",
       "2                                                  0            0   \n",
       "3                                                  0            1   \n",
       "4                                                  1            0   \n",
       "\n",
       "    Unnamed: 2   Unnamed: 3   Unnamed: 4   Unnamed: 5   Unnamed: 6  \\\n",
       "0          NaN          NaN          NaN          NaN          NaN   \n",
       "1          w11          w12          w21          w22           h1   \n",
       "2  1.110623657  1.110323739  1.237790479  1.110323739          0.5   \n",
       "3  1.110623657  1.110323739  1.237790479  1.110323739  0.775179181   \n",
       "4  1.110623657  1.110323739  1.237790479  1.110323739  0.752245362   \n",
       "\n",
       "     Unnamed: 7   Unnamed: 8   Unnamed: 9   Unnamed: 10 Unnamed: 11  \\\n",
       "0           NaN          NaN          NaN           NaN         NaN   \n",
       "1            h2          wh1          wh2             o           t   \n",
       "2           0.5  1.204296592  1.203003699  0.7691734875           1   \n",
       "3  0.7521894616  1.204296592  1.203003699  0.8627631988           0   \n",
       "4  0.7521894616  1.204296592  1.203003699  0.8594601318           0   \n",
       "\n",
       "     Unnamed: 12    Unnamed: 13    Unnamed: 14  \n",
       "0            NaN            NaN            NaN  \n",
       "1             Eo            Eh1            Eh2  \n",
       "2   0.2308265125   0.1154752414    0.115351271  \n",
       "3  -0.8627631988  -0.4316132823  -0.4311499165  \n",
       "4  -0.8594601318  -0.4299608618    -0.42949927  "
      ]
     },
     "execution_count": 113,
     "metadata": {},
     "output_type": "execute_result"
    }
   ],
   "source": [
    "df.head()"
   ]
  },
  {
   "cell_type": "code",
   "execution_count": 114,
   "metadata": {},
   "outputs": [
    {
     "data": {
      "text/plain": [
       "array([[0, 0, 1, 1],\n",
       "       [0, 1, 0, 1]])"
      ]
     },
     "execution_count": 114,
     "metadata": {},
     "output_type": "execute_result"
    }
   ],
   "source": [
    "input=np.array([[0, 0],\n",
    "        [0, 1],\n",
    "        [1, 0],\n",
    "        [1, 1]]).T\n",
    "input\n"
   ]
  },
  {
   "cell_type": "code",
   "execution_count": 115,
   "metadata": {},
   "outputs": [],
   "source": [
    "weights=np.ones(shape=(4,4))"
   ]
  },
  {
   "cell_type": "code",
   "execution_count": 116,
   "metadata": {},
   "outputs": [],
   "source": [
    "weights_h=np.ones(shape=(4,2))"
   ]
  },
  {
   "cell_type": "code",
   "execution_count": 117,
   "metadata": {},
   "outputs": [
    {
     "data": {
      "text/plain": [
       "array([[2., 2.],\n",
       "       [2., 2.],\n",
       "       [2., 2.],\n",
       "       [2., 2.]])"
      ]
     },
     "execution_count": 117,
     "metadata": {},
     "output_type": "execute_result"
    }
   ],
   "source": [
    "hidden_layer=weights@ input.T\n",
    "hidden_layer"
   ]
  },
  {
   "cell_type": "code",
   "execution_count": 118,
   "metadata": {},
   "outputs": [],
   "source": [
    "def sigmoid(z):\n",
    "    return 1/(1+np.exp(-z))"
   ]
  },
  {
   "cell_type": "code",
   "execution_count": 119,
   "metadata": {},
   "outputs": [
    {
     "data": {
      "text/plain": [
       "array([[0.88079708, 0.88079708],\n",
       "       [0.88079708, 0.88079708],\n",
       "       [0.88079708, 0.88079708],\n",
       "       [0.88079708, 0.88079708]])"
      ]
     },
     "execution_count": 119,
     "metadata": {},
     "output_type": "execute_result"
    }
   ],
   "source": [
    "hl_sigmoid=sigmoid(hidden_layer)\n",
    "hl_sigmoid"
   ]
  },
  {
   "cell_type": "code",
   "execution_count": 120,
   "metadata": {},
   "outputs": [
    {
     "data": {
      "text/plain": [
       "array([[3.52318831, 3.52318831],\n",
       "       [3.52318831, 3.52318831]])"
      ]
     },
     "execution_count": 120,
     "metadata": {},
     "output_type": "execute_result"
    }
   ],
   "source": [
    "output=weights_h.T @hl_sigmoid\n",
    "output"
   ]
  },
  {
   "cell_type": "code",
   "execution_count": 121,
   "metadata": {},
   "outputs": [
    {
     "data": {
      "text/plain": [
       "array([[0.97134039, 0.97134039],\n",
       "       [0.97134039, 0.97134039]])"
      ]
     },
     "execution_count": 121,
     "metadata": {},
     "output_type": "execute_result"
    }
   ],
   "source": [
    "output_sigmoid=sigmoid(output)\n",
    "output_sigmoid"
   ]
  },
  {
   "cell_type": "code",
   "execution_count": 122,
   "metadata": {},
   "outputs": [
    {
     "data": {
      "text/plain": [
       "array([[0.97134039],\n",
       "       [0.97134039],\n",
       "       [0.97134039],\n",
       "       [0.97134039]])"
      ]
     },
     "execution_count": 122,
     "metadata": {},
     "output_type": "execute_result"
    }
   ],
   "source": [
    "output_sigmoid=output_sigmoid.flatten()\n",
    "output_sigmoid=np.vstack(output_sigmoid)\n",
    "output_sigmoid"
   ]
  },
  {
   "cell_type": "code",
   "execution_count": 123,
   "metadata": {},
   "outputs": [
    {
     "data": {
      "text/plain": [
       "array([[1],\n",
       "       [0],\n",
       "       [0],\n",
       "       [1]])"
      ]
     },
     "execution_count": 123,
     "metadata": {},
     "output_type": "execute_result"
    }
   ],
   "source": [
    "actual_value=[1,0,0,1]\n",
    "actual_value=np.vstack(actual_value)\n",
    "actual_value"
   ]
  },
  {
   "cell_type": "code",
   "execution_count": 124,
   "metadata": {},
   "outputs": [
    {
     "data": {
      "text/plain": [
       "(4, 1)"
      ]
     },
     "execution_count": 124,
     "metadata": {},
     "output_type": "execute_result"
    }
   ],
   "source": [
    "Eo=actual_value-output_sigmoid\n",
    "Eo.shape"
   ]
  },
  {
   "cell_type": "code",
   "execution_count": 125,
   "metadata": {},
   "outputs": [
    {
     "data": {
      "text/plain": [
       "array([[ 0.02865961],\n",
       "       [-0.97134039],\n",
       "       [-0.97134039],\n",
       "       [ 0.02865961]])"
      ]
     },
     "execution_count": 125,
     "metadata": {},
     "output_type": "execute_result"
    }
   ],
   "source": [
    "Eh1_w=weights_h[:,0]\n",
    "Eh1_w=np.vstack(Eh1_w)\n",
    "Eh1=Eh1_w * Eo\n",
    "Eh1"
   ]
  },
  {
   "cell_type": "code",
   "execution_count": 126,
   "metadata": {},
   "outputs": [
    {
     "data": {
      "text/plain": [
       "array([[ 0.02865961],\n",
       "       [-0.97134039],\n",
       "       [-0.97134039],\n",
       "       [ 0.02865961]])"
      ]
     },
     "execution_count": 126,
     "metadata": {},
     "output_type": "execute_result"
    }
   ],
   "source": [
    "Eh2_w=weights_h[:,1]\n",
    "Eh2_w=np.vstack(Eh1_w)\n",
    "Eh2=Eh2_w * Eo\n",
    "Eh2\n"
   ]
  },
  {
   "cell_type": "code",
   "execution_count": 137,
   "metadata": {},
   "outputs": [
    {
     "data": {
      "text/plain": [
       "array([[ 0.02865961,  0.02865961],\n",
       "       [-0.97134039, -0.97134039],\n",
       "       [-0.97134039, -0.97134039],\n",
       "       [ 0.02865961,  0.02865961]])"
      ]
     },
     "execution_count": 137,
     "metadata": {},
     "output_type": "execute_result"
    }
   ],
   "source": [
    "Eh=np.c_[Eh1,Eh2]\n",
    "Eh"
   ]
  },
  {
   "cell_type": "code",
   "execution_count": 129,
   "metadata": {},
   "outputs": [
    {
     "data": {
      "text/plain": [
       "array([[ 0.00070273],\n",
       "       [-0.02381711],\n",
       "       [-0.02381711],\n",
       "       [ 0.00070273]])"
      ]
     },
     "execution_count": 129,
     "metadata": {},
     "output_type": "execute_result"
    }
   ],
   "source": [
    "h1_s=hl_sigmoid[:,0]\n",
    "h1_s=np.vstack(h1_s)\n",
    "\n",
    "delta_wh1=(Eo * output_sigmoid * (1-output_sigmoid)) * h1_s\n",
    "delta_wh1\n"
   ]
  },
  {
   "cell_type": "code",
   "execution_count": 130,
   "metadata": {},
   "outputs": [
    {
     "data": {
      "text/plain": [
       "array([[ 0.00070273],\n",
       "       [-0.02381711],\n",
       "       [-0.02381711],\n",
       "       [ 0.00070273]])"
      ]
     },
     "execution_count": 130,
     "metadata": {},
     "output_type": "execute_result"
    }
   ],
   "source": [
    "h2_s=hl_sigmoid[:,1]\n",
    "h2_s=np.vstack(h2_s)\n",
    "\n",
    "delta_wh2=(Eo * output_sigmoid * (1-output_sigmoid)) * h2_s\n",
    "delta_wh2"
   ]
  },
  {
   "cell_type": "code",
   "execution_count": 136,
   "metadata": {},
   "outputs": [
    {
     "data": {
      "text/plain": [
       "array([[0.99964864, 0.99964864],\n",
       "       [1.01190855, 1.01190855],\n",
       "       [1.01190855, 1.01190855],\n",
       "       [0.99964864, 0.99964864]])"
      ]
     },
     "execution_count": 136,
     "metadata": {},
     "output_type": "execute_result"
    }
   ],
   "source": [
    "delta_h=np.c_[delta_wh1,delta_wh2]\n",
    "updated_weights_h= weights_h - (0.5*delta_h)\n",
    "updated_weights_h"
   ]
  },
  {
   "cell_type": "code",
   "execution_count": 158,
   "metadata": {},
   "outputs": [],
   "source": [
    "\n",
    "delta_input_weights= (Eh * hl_sigmoid * (1-hl_sigmoid)) * input.T\n",
    "delta_input_weights=np.sum(np.reshape(delta_input_weights, newshape=(2, 4)), axis=0)"
   ]
  },
  {
   "cell_type": "code",
   "execution_count": 159,
   "metadata": {},
   "outputs": [
    {
     "data": {
      "text/plain": [
       "array([[1.05099226, 1.        , 0.99849546, 1.04948772],\n",
       "       [1.05099226, 1.        , 0.99849546, 1.04948772],\n",
       "       [1.05099226, 1.        , 0.99849546, 1.04948772],\n",
       "       [1.05099226, 1.        , 0.99849546, 1.04948772]])"
      ]
     },
     "execution_count": 159,
     "metadata": {},
     "output_type": "execute_result"
    }
   ],
   "source": [
    "updated_input_weights=weights- (0.5 * delta_input_weights)\n",
    "updated_input_weights"
   ]
  }
 ],
 "metadata": {
  "kernelspec": {
   "display_name": "Python 3.9.7 ('base')",
   "language": "python",
   "name": "python3"
  },
  "language_info": {
   "codemirror_mode": {
    "name": "ipython",
    "version": 3
   },
   "file_extension": ".py",
   "mimetype": "text/x-python",
   "name": "python",
   "nbconvert_exporter": "python",
   "pygments_lexer": "ipython3",
   "version": "3.9.7"
  },
  "orig_nbformat": 4,
  "vscode": {
   "interpreter": {
    "hash": "c740ea5def09f529fca43e393decf6813c4c94f46b1946a67c79136a2ec35a9e"
   }
  }
 },
 "nbformat": 4,
 "nbformat_minor": 2
}
