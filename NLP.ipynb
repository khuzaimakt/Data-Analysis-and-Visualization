{
 "cells": [
  {
   "cell_type": "code",
   "execution_count": 260,
   "metadata": {},
   "outputs": [],
   "source": [
    "import numpy as np \n",
    "import pandas as pd\n",
    "from sklearn.feature_extraction.text import CountVectorizer\n",
    "import string\n",
    "import nltk\n",
    "import re\n",
    "import math\n",
    "from string import punctuation\n"
   ]
  },
  {
   "cell_type": "code",
   "execution_count": 261,
   "metadata": {},
   "outputs": [],
   "source": [
    "def Words_Extract(df,words):\n",
    "    for tweet in df['tweet']:\n",
    "        for word in tweet:\n",
    "            if word not in words:\n",
    "                words.add(word)"
   ]
  },
  {
   "cell_type": "code",
   "execution_count": 262,
   "metadata": {},
   "outputs": [],
   "source": [
    "def BoW(df,words):\n",
    "    vectors = list()\n",
    "    for tweet in df['tweet']:\n",
    "        wordfreq=dict()\n",
    "        for word in words:\n",
    "            wordfreq[word]=tweet.count(word)\n",
    "        vectors.append(wordfreq.values())\n",
    "\n",
    "    bow=dict()\n",
    "    for idx, i in enumerate(vectors):\n",
    "        bow[f'bow_{idx}'] = i\n",
    "\n",
    "    df['Bow']= bow.values()\n"
   ]
  },
  {
   "cell_type": "code",
   "execution_count": 263,
   "metadata": {},
   "outputs": [],
   "source": [
    "def TF_IDF(df):\n",
    "    TFIDF=list()\n",
    "    N=10\n",
    "\n",
    "    for tweet in df['tweet']:\n",
    "        \n",
    "        TF_IDF=dict()\n",
    "        j=0\n",
    "        idf=0\n",
    "        for w in tweet:\n",
    "            j+=1\n",
    "        \n",
    "        for word in tweet:\n",
    "            for t in df['tweet']:\n",
    "                if word in t:\n",
    "                    idf+=1\n",
    "            TF_IDF[word]=max(0,((tweet.count(word))/j) * (1 + math.log(N/idf))) #relu fucntion\n",
    "                    \n",
    "\n",
    "        \n",
    "        TFIDF.append(TF_IDF.values())\n",
    "\n",
    "    terminv=dict()\n",
    "    for idx, i in enumerate(TFIDF):\n",
    "        terminv[f'tfidf_{idx}'] = i\n",
    "\n",
    "    df['TF_Idf']= terminv.values()"
   ]
  },
  {
   "cell_type": "markdown",
   "metadata": {},
   "source": [
    "WITHOUT PREPROCESSING\n"
   ]
  },
  {
   "cell_type": "code",
   "execution_count": 264,
   "metadata": {},
   "outputs": [
    {
     "data": {
      "text/html": [
       "<div>\n",
       "<style scoped>\n",
       "    .dataframe tbody tr th:only-of-type {\n",
       "        vertical-align: middle;\n",
       "    }\n",
       "\n",
       "    .dataframe tbody tr th {\n",
       "        vertical-align: top;\n",
       "    }\n",
       "\n",
       "    .dataframe thead th {\n",
       "        text-align: right;\n",
       "    }\n",
       "</style>\n",
       "<table border=\"1\" class=\"dataframe\">\n",
       "  <thead>\n",
       "    <tr style=\"text-align: right;\">\n",
       "      <th></th>\n",
       "      <th>Unnamed: 0</th>\n",
       "      <th>count</th>\n",
       "      <th>hate_speech</th>\n",
       "      <th>offensive_language</th>\n",
       "      <th>neither</th>\n",
       "      <th>class</th>\n",
       "      <th>tweet</th>\n",
       "    </tr>\n",
       "  </thead>\n",
       "  <tbody>\n",
       "    <tr>\n",
       "      <th>0</th>\n",
       "      <td>0</td>\n",
       "      <td>3</td>\n",
       "      <td>0</td>\n",
       "      <td>0</td>\n",
       "      <td>3</td>\n",
       "      <td>2</td>\n",
       "      <td>!!! RT @mayasolovely: As a woman you shouldn't...</td>\n",
       "    </tr>\n",
       "    <tr>\n",
       "      <th>1</th>\n",
       "      <td>1</td>\n",
       "      <td>3</td>\n",
       "      <td>0</td>\n",
       "      <td>3</td>\n",
       "      <td>0</td>\n",
       "      <td>1</td>\n",
       "      <td>!!!!! RT @mleew17: boy dats cold...tyga dwn ba...</td>\n",
       "    </tr>\n",
       "    <tr>\n",
       "      <th>2</th>\n",
       "      <td>2</td>\n",
       "      <td>3</td>\n",
       "      <td>0</td>\n",
       "      <td>3</td>\n",
       "      <td>0</td>\n",
       "      <td>1</td>\n",
       "      <td>!!!!!!! RT @UrKindOfBrand Dawg!!!! RT @80sbaby...</td>\n",
       "    </tr>\n",
       "    <tr>\n",
       "      <th>3</th>\n",
       "      <td>3</td>\n",
       "      <td>3</td>\n",
       "      <td>0</td>\n",
       "      <td>2</td>\n",
       "      <td>1</td>\n",
       "      <td>1</td>\n",
       "      <td>!!!!!!!!! RT @C_G_Anderson: @viva_based she lo...</td>\n",
       "    </tr>\n",
       "    <tr>\n",
       "      <th>4</th>\n",
       "      <td>4</td>\n",
       "      <td>6</td>\n",
       "      <td>0</td>\n",
       "      <td>6</td>\n",
       "      <td>0</td>\n",
       "      <td>1</td>\n",
       "      <td>!!!!!!!!!!!!! RT @ShenikaRoberts: The shit you...</td>\n",
       "    </tr>\n",
       "  </tbody>\n",
       "</table>\n",
       "</div>"
      ],
      "text/plain": [
       "   Unnamed: 0  count  hate_speech  offensive_language  neither  class  \\\n",
       "0           0      3            0                   0        3      2   \n",
       "1           1      3            0                   3        0      1   \n",
       "2           2      3            0                   3        0      1   \n",
       "3           3      3            0                   2        1      1   \n",
       "4           4      6            0                   6        0      1   \n",
       "\n",
       "                                               tweet  \n",
       "0  !!! RT @mayasolovely: As a woman you shouldn't...  \n",
       "1  !!!!! RT @mleew17: boy dats cold...tyga dwn ba...  \n",
       "2  !!!!!!! RT @UrKindOfBrand Dawg!!!! RT @80sbaby...  \n",
       "3  !!!!!!!!! RT @C_G_Anderson: @viva_based she lo...  \n",
       "4  !!!!!!!!!!!!! RT @ShenikaRoberts: The shit you...  "
      ]
     },
     "execution_count": 264,
     "metadata": {},
     "output_type": "execute_result"
    }
   ],
   "source": [
    "df=pd.read_csv('labeled_data.csv')\n",
    "df.head()"
   ]
  },
  {
   "cell_type": "code",
   "execution_count": 265,
   "metadata": {},
   "outputs": [],
   "source": [
    "\n",
    "df.drop(['Unnamed: 0','count','hate_speech','offensive_language','neither','class'],axis=1,inplace=True)"
   ]
  },
  {
   "cell_type": "code",
   "execution_count": 266,
   "metadata": {},
   "outputs": [
    {
     "name": "stdout",
     "output_type": "stream",
     "text": [
      "                                               tweet\n",
      "0  !!! RT @mayasolovely: As a woman you shouldn't...\n",
      "1  !!!!! RT @mleew17: boy dats cold...tyga dwn ba...\n",
      "2  !!!!!!! RT @UrKindOfBrand Dawg!!!! RT @80sbaby...\n",
      "3  !!!!!!!!! RT @C_G_Anderson: @viva_based she lo...\n",
      "4  !!!!!!!!!!!!! RT @ShenikaRoberts: The shit you...\n",
      "5  !!!!!!!!!!!!!!!!!!\"@T_Madison_x: The shit just...\n",
      "6  !!!!!!\"@__BrighterDays: I can not just sit up ...\n",
      "7  !!!!&#8220;@selfiequeenbri: cause I'm tired of...\n",
      "8  \" &amp; you might not get ya bitch back &amp; ...\n",
      "9  \" @rhythmixx_ :hobbies include: fighting Maria...\n"
     ]
    },
    {
     "data": {
      "text/plain": [
       "(10, 1)"
      ]
     },
     "execution_count": 266,
     "metadata": {},
     "output_type": "execute_result"
    }
   ],
   "source": [
    "df=df[:10]\n",
    "print(df.head(10))\n",
    "df.shape"
   ]
  },
  {
   "cell_type": "code",
   "execution_count": 267,
   "metadata": {},
   "outputs": [],
   "source": [
    "df['tweet']=df['tweet'].map(lambda v:v.split(\" \"))"
   ]
  },
  {
   "cell_type": "code",
   "execution_count": 268,
   "metadata": {},
   "outputs": [],
   "source": [
    "words=set()\n",
    "Words_Extract(df,words)"
   ]
  },
  {
   "cell_type": "code",
   "execution_count": 269,
   "metadata": {},
   "outputs": [
    {
     "name": "stdout",
     "output_type": "stream",
     "text": [
      "['You', 'hear', 'be', '&amp;', 'another', 'dwn', 'the', '!!!!!!!!!!!!!!!!!!\"@T_Madison_x:', 'can', 'and', '!!!!!', 'fucking', 'us', 'bad', 'RT', 'take', 'me..claim', 'just', 'girls!!&#8221;', 'skinny', '!!!!!!!!!', 'blows', 'me', '!!!!!!!!!!!!!', 'get', '&#128514;&#128514;&#128514;\"', 'always', 'your', 'trash', 'cause', 'a', 'Dawg!!!!', '!!!', '!!!!!!\"@__BrighterDays:', '@rhythmixx_', '@ShenikaRoberts:', 'much', 'too', 'to', 'big', 'who', '@C_G_Anderson:', 'As', 'like', 'house.', 'on', 'with', 'complain', 'include:', 'confused', '&#57361;', 'hoes!', 'cleaning', 'cold...tyga', 'boy', 'faker', 'tranny', 'in', 'HATE', '@mleew17:', 'might', '@mayasolovely:', 'that', 'fuck', '@viva_based', 'she', 'true', 'dat', 'place!!', 'of', 'about', 'sit', 'got', 'back', 'start', 'it', '\"', 'bitch', '@80sbaby4life:', 'as', 'dats', 'told', 'going', \"I'm\", 'fighting', 'woman', 'tired', 'ya', 'look', 'somebody', 'I', 'coming', 'man', '!!!!&#8220;@selfiequeenbri:', \"shouldn't\", 'cry?', 'not', 'ever', '..', 'down', 'or', 'should', 'for', 'cuffin', 'Mariam\"\\n\\nbitch', 'thats', 'than', 'still', 'shit', ':hobbies', '@UrKindOfBrand', 'you', 'The', 'bitches', 'so', 'hoe', 'on!\"', '1st', 'out...', 'faithful', '!!!!!!!', 'but', 'up']\n"
     ]
    }
   ],
   "source": [
    "words=list(words)\n",
    "print(words)"
   ]
  },
  {
   "cell_type": "code",
   "execution_count": 270,
   "metadata": {},
   "outputs": [
    {
     "data": {
      "text/html": [
       "<div>\n",
       "<style scoped>\n",
       "    .dataframe tbody tr th:only-of-type {\n",
       "        vertical-align: middle;\n",
       "    }\n",
       "\n",
       "    .dataframe tbody tr th {\n",
       "        vertical-align: top;\n",
       "    }\n",
       "\n",
       "    .dataframe thead th {\n",
       "        text-align: right;\n",
       "    }\n",
       "</style>\n",
       "<table border=\"1\" class=\"dataframe\">\n",
       "  <thead>\n",
       "    <tr style=\"text-align: right;\">\n",
       "      <th></th>\n",
       "      <th>tweet</th>\n",
       "      <th>Bow</th>\n",
       "    </tr>\n",
       "  </thead>\n",
       "  <tbody>\n",
       "    <tr>\n",
       "      <th>0</th>\n",
       "      <td>[!!!, RT, @mayasolovely:, As, a, woman, you, s...</td>\n",
       "      <td>(0, 0, 0, 1, 0, 0, 1, 0, 0, 0, 0, 0, 0, 0, 1, ...</td>\n",
       "    </tr>\n",
       "    <tr>\n",
       "      <th>1</th>\n",
       "      <td>[!!!!!, RT, @mleew17:, boy, dats, cold...tyga,...</td>\n",
       "      <td>(0, 0, 0, 0, 0, 1, 1, 0, 0, 0, 1, 0, 0, 1, 1, ...</td>\n",
       "    </tr>\n",
       "    <tr>\n",
       "      <th>2</th>\n",
       "      <td>[!!!!!!!, RT, @UrKindOfBrand, Dawg!!!!, RT, @8...</td>\n",
       "      <td>(2, 0, 1, 0, 0, 0, 0, 0, 0, 1, 0, 0, 0, 0, 2, ...</td>\n",
       "    </tr>\n",
       "    <tr>\n",
       "      <th>3</th>\n",
       "      <td>[!!!!!!!!!, RT, @C_G_Anderson:, @viva_based, s...</td>\n",
       "      <td>(0, 0, 0, 0, 0, 0, 0, 0, 0, 0, 0, 0, 0, 0, 1, ...</td>\n",
       "    </tr>\n",
       "    <tr>\n",
       "      <th>4</th>\n",
       "      <td>[!!!!!!!!!!!!!, RT, @ShenikaRoberts:, The, shi...</td>\n",
       "      <td>(0, 1, 2, 0, 0, 0, 1, 0, 0, 0, 0, 0, 0, 0, 1, ...</td>\n",
       "    </tr>\n",
       "  </tbody>\n",
       "</table>\n",
       "</div>"
      ],
      "text/plain": [
       "                                               tweet  \\\n",
       "0  [!!!, RT, @mayasolovely:, As, a, woman, you, s...   \n",
       "1  [!!!!!, RT, @mleew17:, boy, dats, cold...tyga,...   \n",
       "2  [!!!!!!!, RT, @UrKindOfBrand, Dawg!!!!, RT, @8...   \n",
       "3  [!!!!!!!!!, RT, @C_G_Anderson:, @viva_based, s...   \n",
       "4  [!!!!!!!!!!!!!, RT, @ShenikaRoberts:, The, shi...   \n",
       "\n",
       "                                                 Bow  \n",
       "0  (0, 0, 0, 1, 0, 0, 1, 0, 0, 0, 0, 0, 0, 0, 1, ...  \n",
       "1  (0, 0, 0, 0, 0, 1, 1, 0, 0, 0, 1, 0, 0, 1, 1, ...  \n",
       "2  (2, 0, 1, 0, 0, 0, 0, 0, 0, 1, 0, 0, 0, 0, 2, ...  \n",
       "3  (0, 0, 0, 0, 0, 0, 0, 0, 0, 0, 0, 0, 0, 0, 1, ...  \n",
       "4  (0, 1, 2, 0, 0, 0, 1, 0, 0, 0, 0, 0, 0, 0, 1, ...  "
      ]
     },
     "execution_count": 270,
     "metadata": {},
     "output_type": "execute_result"
    }
   ],
   "source": [
    "BoW(df,words)\n",
    "df.head()\n",
    "\n"
   ]
  },
  {
   "cell_type": "code",
   "execution_count": 271,
   "metadata": {},
   "outputs": [
    {
     "data": {
      "text/html": [
       "<div>\n",
       "<style scoped>\n",
       "    .dataframe tbody tr th:only-of-type {\n",
       "        vertical-align: middle;\n",
       "    }\n",
       "\n",
       "    .dataframe tbody tr th {\n",
       "        vertical-align: top;\n",
       "    }\n",
       "\n",
       "    .dataframe thead th {\n",
       "        text-align: right;\n",
       "    }\n",
       "</style>\n",
       "<table border=\"1\" class=\"dataframe\">\n",
       "  <thead>\n",
       "    <tr style=\"text-align: right;\">\n",
       "      <th></th>\n",
       "      <th>tweet</th>\n",
       "      <th>Bow</th>\n",
       "      <th>TF_Idf</th>\n",
       "    </tr>\n",
       "  </thead>\n",
       "  <tbody>\n",
       "    <tr>\n",
       "      <th>0</th>\n",
       "      <td>[!!!, RT, @mayasolovely:, As, a, woman, you, s...</td>\n",
       "      <td>(0, 0, 0, 1, 0, 0, 1, 0, 0, 0, 0, 0, 0, 0, 1, ...</td>\n",
       "      <td>(0.13210340371976184, 0.06043302495063963, 0.0...</td>\n",
       "    </tr>\n",
       "    <tr>\n",
       "      <th>1</th>\n",
       "      <td>[!!!!!, RT, @mleew17:, boy, dats, cold...tyga,...</td>\n",
       "      <td>(0, 0, 0, 0, 0, 1, 1, 0, 0, 0, 1, 0, 0, 1, 1, ...</td>\n",
       "      <td>(0.20641156831212787, 0.09442660148537442, 0.0...</td>\n",
       "    </tr>\n",
       "    <tr>\n",
       "      <th>2</th>\n",
       "      <td>[!!!!!!!, RT, @UrKindOfBrand, Dawg!!!!, RT, @8...</td>\n",
       "      <td>(2, 0, 1, 0, 0, 0, 0, 0, 0, 1, 0, 0, 0, 0, 2, ...</td>\n",
       "      <td>(0.15726595680924027, 0.07025102243166752, 0.0...</td>\n",
       "    </tr>\n",
       "    <tr>\n",
       "      <th>3</th>\n",
       "      <td>[!!!!!!!!!, RT, @C_G_Anderson:, @viva_based, s...</td>\n",
       "      <td>(0, 0, 0, 0, 0, 0, 0, 0, 0, 0, 0, 0, 0, 0, 1, ...</td>\n",
       "      <td>(0.36695389922156063, 0.16786951375177675, 0.1...</td>\n",
       "    </tr>\n",
       "    <tr>\n",
       "      <th>4</th>\n",
       "      <td>[!!!!!!!!!!!!!, RT, @ShenikaRoberts:, The, shi...</td>\n",
       "      <td>(0, 1, 2, 0, 0, 0, 1, 0, 0, 0, 0, 0, 0, 0, 1, ...</td>\n",
       "      <td>(0.1270225035766941, 0.05810867783715349, 0.05...</td>\n",
       "    </tr>\n",
       "  </tbody>\n",
       "</table>\n",
       "</div>"
      ],
      "text/plain": [
       "                                               tweet  \\\n",
       "0  [!!!, RT, @mayasolovely:, As, a, woman, you, s...   \n",
       "1  [!!!!!, RT, @mleew17:, boy, dats, cold...tyga,...   \n",
       "2  [!!!!!!!, RT, @UrKindOfBrand, Dawg!!!!, RT, @8...   \n",
       "3  [!!!!!!!!!, RT, @C_G_Anderson:, @viva_based, s...   \n",
       "4  [!!!!!!!!!!!!!, RT, @ShenikaRoberts:, The, shi...   \n",
       "\n",
       "                                                 Bow  \\\n",
       "0  (0, 0, 0, 1, 0, 0, 1, 0, 0, 0, 0, 0, 0, 0, 1, ...   \n",
       "1  (0, 0, 0, 0, 0, 1, 1, 0, 0, 0, 1, 0, 0, 1, 1, ...   \n",
       "2  (2, 0, 1, 0, 0, 0, 0, 0, 0, 1, 0, 0, 0, 0, 2, ...   \n",
       "3  (0, 0, 0, 0, 0, 0, 0, 0, 0, 0, 0, 0, 0, 0, 1, ...   \n",
       "4  (0, 1, 2, 0, 0, 0, 1, 0, 0, 0, 0, 0, 0, 0, 1, ...   \n",
       "\n",
       "                                              TF_Idf  \n",
       "0  (0.13210340371976184, 0.06043302495063963, 0.0...  \n",
       "1  (0.20641156831212787, 0.09442660148537442, 0.0...  \n",
       "2  (0.15726595680924027, 0.07025102243166752, 0.0...  \n",
       "3  (0.36695389922156063, 0.16786951375177675, 0.1...  \n",
       "4  (0.1270225035766941, 0.05810867783715349, 0.05...  "
      ]
     },
     "execution_count": 271,
     "metadata": {},
     "output_type": "execute_result"
    }
   ],
   "source": [
    "TF_IDF(df)\n",
    "df.head()"
   ]
  },
  {
   "cell_type": "markdown",
   "metadata": {},
   "source": [
    "WITH PREPROCESSING\n"
   ]
  },
  {
   "cell_type": "code",
   "execution_count": 272,
   "metadata": {},
   "outputs": [
    {
     "data": {
      "text/html": [
       "<div>\n",
       "<style scoped>\n",
       "    .dataframe tbody tr th:only-of-type {\n",
       "        vertical-align: middle;\n",
       "    }\n",
       "\n",
       "    .dataframe tbody tr th {\n",
       "        vertical-align: top;\n",
       "    }\n",
       "\n",
       "    .dataframe thead th {\n",
       "        text-align: right;\n",
       "    }\n",
       "</style>\n",
       "<table border=\"1\" class=\"dataframe\">\n",
       "  <thead>\n",
       "    <tr style=\"text-align: right;\">\n",
       "      <th></th>\n",
       "      <th>Unnamed: 0</th>\n",
       "      <th>count</th>\n",
       "      <th>hate_speech</th>\n",
       "      <th>offensive_language</th>\n",
       "      <th>neither</th>\n",
       "      <th>class</th>\n",
       "      <th>tweet</th>\n",
       "    </tr>\n",
       "  </thead>\n",
       "  <tbody>\n",
       "    <tr>\n",
       "      <th>0</th>\n",
       "      <td>0</td>\n",
       "      <td>3</td>\n",
       "      <td>0</td>\n",
       "      <td>0</td>\n",
       "      <td>3</td>\n",
       "      <td>2</td>\n",
       "      <td>!!! RT @mayasolovely: As a woman you shouldn't...</td>\n",
       "    </tr>\n",
       "    <tr>\n",
       "      <th>1</th>\n",
       "      <td>1</td>\n",
       "      <td>3</td>\n",
       "      <td>0</td>\n",
       "      <td>3</td>\n",
       "      <td>0</td>\n",
       "      <td>1</td>\n",
       "      <td>!!!!! RT @mleew17: boy dats cold...tyga dwn ba...</td>\n",
       "    </tr>\n",
       "    <tr>\n",
       "      <th>2</th>\n",
       "      <td>2</td>\n",
       "      <td>3</td>\n",
       "      <td>0</td>\n",
       "      <td>3</td>\n",
       "      <td>0</td>\n",
       "      <td>1</td>\n",
       "      <td>!!!!!!! RT @UrKindOfBrand Dawg!!!! RT @80sbaby...</td>\n",
       "    </tr>\n",
       "    <tr>\n",
       "      <th>3</th>\n",
       "      <td>3</td>\n",
       "      <td>3</td>\n",
       "      <td>0</td>\n",
       "      <td>2</td>\n",
       "      <td>1</td>\n",
       "      <td>1</td>\n",
       "      <td>!!!!!!!!! RT @C_G_Anderson: @viva_based she lo...</td>\n",
       "    </tr>\n",
       "    <tr>\n",
       "      <th>4</th>\n",
       "      <td>4</td>\n",
       "      <td>6</td>\n",
       "      <td>0</td>\n",
       "      <td>6</td>\n",
       "      <td>0</td>\n",
       "      <td>1</td>\n",
       "      <td>!!!!!!!!!!!!! RT @ShenikaRoberts: The shit you...</td>\n",
       "    </tr>\n",
       "  </tbody>\n",
       "</table>\n",
       "</div>"
      ],
      "text/plain": [
       "   Unnamed: 0  count  hate_speech  offensive_language  neither  class  \\\n",
       "0           0      3            0                   0        3      2   \n",
       "1           1      3            0                   3        0      1   \n",
       "2           2      3            0                   3        0      1   \n",
       "3           3      3            0                   2        1      1   \n",
       "4           4      6            0                   6        0      1   \n",
       "\n",
       "                                               tweet  \n",
       "0  !!! RT @mayasolovely: As a woman you shouldn't...  \n",
       "1  !!!!! RT @mleew17: boy dats cold...tyga dwn ba...  \n",
       "2  !!!!!!! RT @UrKindOfBrand Dawg!!!! RT @80sbaby...  \n",
       "3  !!!!!!!!! RT @C_G_Anderson: @viva_based she lo...  \n",
       "4  !!!!!!!!!!!!! RT @ShenikaRoberts: The shit you...  "
      ]
     },
     "execution_count": 272,
     "metadata": {},
     "output_type": "execute_result"
    }
   ],
   "source": [
    "pp_df=pd.read_csv('labeled_data.csv')\n",
    "pp_df.head()\n",
    "\n"
   ]
  },
  {
   "cell_type": "code",
   "execution_count": 273,
   "metadata": {},
   "outputs": [
    {
     "name": "stdout",
     "output_type": "stream",
     "text": [
      "                                               tweet\n",
      "0  !!! RT @mayasolovely: As a woman you shouldn't...\n",
      "1  !!!!! RT @mleew17: boy dats cold...tyga dwn ba...\n",
      "2  !!!!!!! RT @UrKindOfBrand Dawg!!!! RT @80sbaby...\n",
      "3  !!!!!!!!! RT @C_G_Anderson: @viva_based she lo...\n",
      "4  !!!!!!!!!!!!! RT @ShenikaRoberts: The shit you...\n",
      "5  !!!!!!!!!!!!!!!!!!\"@T_Madison_x: The shit just...\n",
      "6  !!!!!!\"@__BrighterDays: I can not just sit up ...\n",
      "7  !!!!&#8220;@selfiequeenbri: cause I'm tired of...\n",
      "8  \" &amp; you might not get ya bitch back &amp; ...\n",
      "9  \" @rhythmixx_ :hobbies include: fighting Maria...\n"
     ]
    },
    {
     "data": {
      "text/plain": [
       "(10, 3)"
      ]
     },
     "execution_count": 273,
     "metadata": {},
     "output_type": "execute_result"
    }
   ],
   "source": [
    "pp_df.drop(['Unnamed: 0','count','hate_speech','offensive_language','neither','class'],axis=1,inplace=True)\n",
    "pp_df=pp_df[:10]\n",
    "print(pp_df.head(10))\n",
    "df.shape"
   ]
  },
  {
   "cell_type": "code",
   "execution_count": 274,
   "metadata": {},
   "outputs": [],
   "source": [
    "from nltk.corpus import stopwords\n",
    "stop = stopwords.words('english')"
   ]
  },
  {
   "cell_type": "code",
   "execution_count": 275,
   "metadata": {},
   "outputs": [],
   "source": [
    "# pp_df['tweet'] = pp_df['tweet'].str.replace(r'[^\\w\\s]+', '')\n",
    "#pp_df['tweet']=pp_df['tweet'].str.lower()\n",
    "# pp_df['tweet'] = pp_df['tweet'].apply(lambda x: ' '.join([word for word in x.split() if word not in (stop)]))\n",
    "\n",
    "pp_df[\"tweet\"] = pp_df[\"tweet\"].map(lambda v : ''.join([i for i in list(v) if i not in punctuation]))\n",
    "pp_df[\"tweet\"] = pp_df[\"tweet\"].map(lambda v : [word for word in v.lower().split(\" \") if word and word not in stop])\n",
    "\n"
   ]
  },
  {
   "cell_type": "code",
   "execution_count": 276,
   "metadata": {},
   "outputs": [],
   "source": [
    "words=set()\n",
    "Words_Extract(pp_df,words)"
   ]
  },
  {
   "cell_type": "code",
   "execution_count": 277,
   "metadata": {},
   "outputs": [
    {
     "name": "stdout",
     "output_type": "stream",
     "text": [
      "['hear', 'cganderson', 'another', 'dwn', 'fucking', 'us', 'bad', 'take', 'rt', '57361', 'rhythmixx', 'skinny', 'blows', 'shouldnt', 'get', 'coldtyga', 'always', 'trash', 'cause', 'much', 'big', 'like', 'house', 'complain', 'confused', '8220selfiequeenbri', 'include', 'cleaning', 'hate', 'boy', 'faker', 'tranny', '128514128514128514', 'might', 'urkindofbrand', 'meclaim', 'fuck', 'true', 'girls8221', 'amp', 'dat', 'brighterdays', 'sit', 'got', 'back', 'start', 'hoes', 'mayasolovely', 'bitch', 'dats', 'told', 'going', 'mleew17', 'fighting', 'woman', 'tired', 'ya', 'look', 'somebody', 'coming', 'dawg', 'place', 'hobbies', 'man', 'tmadisonx', 'ever', 'cuffin', 'mariam\\n\\nbitch', 'thats', 'im', 'still', 'shenikaroberts', '80sbaby4life', 'shit', 'cry', 'bitches', 'hoe', '1st', 'faithful', 'vivabased']\n"
     ]
    }
   ],
   "source": [
    "words=list(words)\n",
    "print(words)"
   ]
  },
  {
   "cell_type": "code",
   "execution_count": 278,
   "metadata": {},
   "outputs": [
    {
     "data": {
      "text/html": [
       "<div>\n",
       "<style scoped>\n",
       "    .dataframe tbody tr th:only-of-type {\n",
       "        vertical-align: middle;\n",
       "    }\n",
       "\n",
       "    .dataframe tbody tr th {\n",
       "        vertical-align: top;\n",
       "    }\n",
       "\n",
       "    .dataframe thead th {\n",
       "        text-align: right;\n",
       "    }\n",
       "</style>\n",
       "<table border=\"1\" class=\"dataframe\">\n",
       "  <thead>\n",
       "    <tr style=\"text-align: right;\">\n",
       "      <th></th>\n",
       "      <th>tweet</th>\n",
       "      <th>Bow</th>\n",
       "    </tr>\n",
       "  </thead>\n",
       "  <tbody>\n",
       "    <tr>\n",
       "      <th>0</th>\n",
       "      <td>[rt, mayasolovely, woman, shouldnt, complain, ...</td>\n",
       "      <td>(0, 0, 0, 0, 0, 0, 0, 1, 1, 0, 0, 0, 0, 1, 0, ...</td>\n",
       "    </tr>\n",
       "    <tr>\n",
       "      <th>1</th>\n",
       "      <td>[rt, mleew17, boy, dats, coldtyga, dwn, bad, c...</td>\n",
       "      <td>(0, 0, 0, 1, 0, 0, 1, 0, 1, 0, 0, 0, 0, 0, 0, ...</td>\n",
       "    </tr>\n",
       "    <tr>\n",
       "      <th>2</th>\n",
       "      <td>[rt, urkindofbrand, dawg, rt, 80sbaby4life, ev...</td>\n",
       "      <td>(0, 0, 0, 0, 0, 0, 0, 0, 2, 0, 0, 0, 0, 0, 0, ...</td>\n",
       "    </tr>\n",
       "    <tr>\n",
       "      <th>3</th>\n",
       "      <td>[rt, cganderson, vivabased, look, like, tranny]</td>\n",
       "      <td>(0, 1, 0, 0, 0, 0, 0, 0, 1, 0, 0, 0, 0, 0, 0, ...</td>\n",
       "    </tr>\n",
       "    <tr>\n",
       "      <th>4</th>\n",
       "      <td>[rt, shenikaroberts, shit, hear, might, true, ...</td>\n",
       "      <td>(1, 0, 0, 0, 0, 0, 0, 0, 1, 1, 0, 0, 0, 0, 0, ...</td>\n",
       "    </tr>\n",
       "  </tbody>\n",
       "</table>\n",
       "</div>"
      ],
      "text/plain": [
       "                                               tweet  \\\n",
       "0  [rt, mayasolovely, woman, shouldnt, complain, ...   \n",
       "1  [rt, mleew17, boy, dats, coldtyga, dwn, bad, c...   \n",
       "2  [rt, urkindofbrand, dawg, rt, 80sbaby4life, ev...   \n",
       "3    [rt, cganderson, vivabased, look, like, tranny]   \n",
       "4  [rt, shenikaroberts, shit, hear, might, true, ...   \n",
       "\n",
       "                                                 Bow  \n",
       "0  (0, 0, 0, 0, 0, 0, 0, 1, 1, 0, 0, 0, 0, 1, 0, ...  \n",
       "1  (0, 0, 0, 1, 0, 0, 1, 0, 1, 0, 0, 0, 0, 0, 0, ...  \n",
       "2  (0, 0, 0, 0, 0, 0, 0, 0, 2, 0, 0, 0, 0, 0, 0, ...  \n",
       "3  (0, 1, 0, 0, 0, 0, 0, 0, 1, 0, 0, 0, 0, 0, 0, ...  \n",
       "4  (1, 0, 0, 0, 0, 0, 0, 0, 1, 1, 0, 0, 0, 0, 0, ...  "
      ]
     },
     "execution_count": 278,
     "metadata": {},
     "output_type": "execute_result"
    }
   ],
   "source": [
    "BoW(pp_df,words)\n",
    "pp_df.head()"
   ]
  },
  {
   "cell_type": "code",
   "execution_count": 279,
   "metadata": {},
   "outputs": [
    {
     "data": {
      "text/html": [
       "<div>\n",
       "<style scoped>\n",
       "    .dataframe tbody tr th:only-of-type {\n",
       "        vertical-align: middle;\n",
       "    }\n",
       "\n",
       "    .dataframe tbody tr th {\n",
       "        vertical-align: top;\n",
       "    }\n",
       "\n",
       "    .dataframe thead th {\n",
       "        text-align: right;\n",
       "    }\n",
       "</style>\n",
       "<table border=\"1\" class=\"dataframe\">\n",
       "  <thead>\n",
       "    <tr style=\"text-align: right;\">\n",
       "      <th></th>\n",
       "      <th>tweet</th>\n",
       "      <th>Bow</th>\n",
       "      <th>TF_Idf</th>\n",
       "    </tr>\n",
       "  </thead>\n",
       "  <tbody>\n",
       "    <tr>\n",
       "      <th>0</th>\n",
       "      <td>[rt, mayasolovely, woman, shouldnt, complain, ...</td>\n",
       "      <td>(0, 0, 0, 0, 0, 0, 0, 1, 1, 0, 0, 0, 0, 1, 0, ...</td>\n",
       "      <td>(0.14109559837999544, 0.12590213531383254, 0.1...</td>\n",
       "    </tr>\n",
       "    <tr>\n",
       "      <th>1</th>\n",
       "      <td>[rt, mleew17, boy, dats, coldtyga, dwn, bad, c...</td>\n",
       "      <td>(0, 0, 0, 1, 0, 0, 1, 0, 1, 0, 0, 0, 0, 0, 0, ...</td>\n",
       "      <td>(0.14109559837999544, 0.12590213531383254, 0.1...</td>\n",
       "    </tr>\n",
       "    <tr>\n",
       "      <th>2</th>\n",
       "      <td>[rt, urkindofbrand, dawg, rt, 80sbaby4life, ev...</td>\n",
       "      <td>(0, 0, 0, 0, 0, 0, 0, 0, 2, 0, 0, 0, 0, 0, 0, ...</td>\n",
       "      <td>(0.1362797405343409, 0.12590213531383254, 0.11...</td>\n",
       "    </tr>\n",
       "    <tr>\n",
       "      <th>3</th>\n",
       "      <td>[rt, cganderson, vivabased, look, like, tranny]</td>\n",
       "      <td>(0, 1, 0, 0, 0, 0, 0, 0, 1, 0, 0, 0, 0, 0, 0, ...</td>\n",
       "      <td>(0.2821911967599909, 0.2518042706276651, 0.226...</td>\n",
       "    </tr>\n",
       "    <tr>\n",
       "      <th>4</th>\n",
       "      <td>[rt, shenikaroberts, shit, hear, might, true, ...</td>\n",
       "      <td>(1, 0, 0, 0, 0, 0, 0, 0, 1, 1, 0, 0, 0, 0, 0, ...</td>\n",
       "      <td>(0.14109559837999544, 0.12590213531383254, 0.0...</td>\n",
       "    </tr>\n",
       "  </tbody>\n",
       "</table>\n",
       "</div>"
      ],
      "text/plain": [
       "                                               tweet  \\\n",
       "0  [rt, mayasolovely, woman, shouldnt, complain, ...   \n",
       "1  [rt, mleew17, boy, dats, coldtyga, dwn, bad, c...   \n",
       "2  [rt, urkindofbrand, dawg, rt, 80sbaby4life, ev...   \n",
       "3    [rt, cganderson, vivabased, look, like, tranny]   \n",
       "4  [rt, shenikaroberts, shit, hear, might, true, ...   \n",
       "\n",
       "                                                 Bow  \\\n",
       "0  (0, 0, 0, 0, 0, 0, 0, 1, 1, 0, 0, 0, 0, 1, 0, ...   \n",
       "1  (0, 0, 0, 1, 0, 0, 1, 0, 1, 0, 0, 0, 0, 0, 0, ...   \n",
       "2  (0, 0, 0, 0, 0, 0, 0, 0, 2, 0, 0, 0, 0, 0, 0, ...   \n",
       "3  (0, 1, 0, 0, 0, 0, 0, 0, 1, 0, 0, 0, 0, 0, 0, ...   \n",
       "4  (1, 0, 0, 0, 0, 0, 0, 0, 1, 1, 0, 0, 0, 0, 0, ...   \n",
       "\n",
       "                                              TF_Idf  \n",
       "0  (0.14109559837999544, 0.12590213531383254, 0.1...  \n",
       "1  (0.14109559837999544, 0.12590213531383254, 0.1...  \n",
       "2  (0.1362797405343409, 0.12590213531383254, 0.11...  \n",
       "3  (0.2821911967599909, 0.2518042706276651, 0.226...  \n",
       "4  (0.14109559837999544, 0.12590213531383254, 0.0...  "
      ]
     },
     "execution_count": 279,
     "metadata": {},
     "output_type": "execute_result"
    }
   ],
   "source": [
    "TF_IDF(pp_df)\n",
    "pp_df.head()"
   ]
  }
 ],
 "metadata": {
  "kernelspec": {
   "display_name": "Python 3.9.7 ('base')",
   "language": "python",
   "name": "python3"
  },
  "language_info": {
   "codemirror_mode": {
    "name": "ipython",
    "version": 3
   },
   "file_extension": ".py",
   "mimetype": "text/x-python",
   "name": "python",
   "nbconvert_exporter": "python",
   "pygments_lexer": "ipython3",
   "version": "3.9.7"
  },
  "orig_nbformat": 4,
  "vscode": {
   "interpreter": {
    "hash": "c740ea5def09f529fca43e393decf6813c4c94f46b1946a67c79136a2ec35a9e"
   }
  }
 },
 "nbformat": 4,
 "nbformat_minor": 2
}
